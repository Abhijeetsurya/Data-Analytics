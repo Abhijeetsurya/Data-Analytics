{
 "cells": [
  {
   "cell_type": "markdown",
   "id": "8d2f8be8",
   "metadata": {},
   "source": [
    "# Data Structure  => way of stoding data so that it can be accessed and manipulated"
   ]
  },
  {
   "cell_type": "code",
   "execution_count": 2,
   "id": "a1100cb4",
   "metadata": {},
   "outputs": [],
   "source": [
    "#List  >> ordered of element that can be of any data type like integer, string, float etc.\n",
    "#List are mutable, it mean be can change after creation"
   ]
  },
  {
   "cell_type": "code",
   "execution_count": 3,
   "id": "e011e81c",
   "metadata": {},
   "outputs": [
    {
     "data": {
      "text/plain": [
       "list"
      ]
     },
     "execution_count": 3,
     "metadata": {},
     "output_type": "execute_result"
    }
   ],
   "source": [
    "num = [1, 2, 3, 4, 5]\n",
    "type(num)"
   ]
  },
  {
   "cell_type": "code",
   "execution_count": 7,
   "id": "39833d4e",
   "metadata": {},
   "outputs": [
    {
     "data": {
      "text/plain": [
       "1"
      ]
     },
     "execution_count": 7,
     "metadata": {},
     "output_type": "execute_result"
    }
   ],
   "source": [
    "num[0]"
   ]
  },
  {
   "cell_type": "code",
   "execution_count": 5,
   "id": "4ba145da",
   "metadata": {},
   "outputs": [
    {
     "data": {
      "text/plain": [
       "2"
      ]
     },
     "execution_count": 5,
     "metadata": {},
     "output_type": "execute_result"
    }
   ],
   "source": [
    "num[1]"
   ]
  },
  {
   "cell_type": "code",
   "execution_count": 6,
   "id": "1b3b86e3",
   "metadata": {},
   "outputs": [
    {
     "data": {
      "text/plain": [
       "5"
      ]
     },
     "execution_count": 6,
     "metadata": {},
     "output_type": "execute_result"
    }
   ],
   "source": [
    "num[4]"
   ]
  },
  {
   "cell_type": "code",
   "execution_count": 9,
   "id": "ff5cb63e",
   "metadata": {},
   "outputs": [],
   "source": [
    "# num[5]  - it will return error because index 5 is not present"
   ]
  },
  {
   "cell_type": "code",
   "execution_count": 10,
   "id": "73a32a50",
   "metadata": {},
   "outputs": [
    {
     "name": "stdout",
     "output_type": "stream",
     "text": [
      "[1, 2, (3+7j), 3.4, 'Abhi', True]\n"
     ]
    }
   ],
   "source": [
    "l1 = [1, 2, 3+7j, 3.4, \"Abhi\", True]\n",
    "print(l1)"
   ]
  },
  {
   "cell_type": "code",
   "execution_count": 17,
   "id": "06a7cb76",
   "metadata": {},
   "outputs": [
    {
     "name": "stdout",
     "output_type": "stream",
     "text": [
      "[1, 2, (3+7j), 3.4, 'Abhi', True, 'PWskills', 'PWskills', 'PWskills', 'PWskills', 'PWskills', 'PWskills']\n"
     ]
    }
   ],
   "source": [
    "l1.append(\"PWskills\")"
   ]
  },
  {
   "cell_type": "code",
   "execution_count": 19,
   "id": "3474c707",
   "metadata": {},
   "outputs": [
    {
     "name": "stdout",
     "output_type": "stream",
     "text": [
      "[1, 2, (3+7j), 3.4, 'Abhi', True, 'PWskills', 'PWskills', 'PWskills', 'PWskills', 'PWskills', 'PWskills']\n"
     ]
    }
   ],
   "source": [
    "print(l1)"
   ]
  },
  {
   "cell_type": "code",
   "execution_count": 20,
   "id": "ce7da45d",
   "metadata": {},
   "outputs": [
    {
     "name": "stdout",
     "output_type": "stream",
     "text": [
      "(3+7j)\n"
     ]
    }
   ],
   "source": [
    "print(l1[2])"
   ]
  },
  {
   "cell_type": "code",
   "execution_count": 21,
   "id": "16ac5064",
   "metadata": {},
   "outputs": [
    {
     "name": "stdout",
     "output_type": "stream",
     "text": [
      "[[1, 2, 3], [4, 5, 6], [7, 8, 9]]\n"
     ]
    }
   ],
   "source": [
    "li = [[1, 2, 3], [4, 5, 6], [7, 8, 9]]\n",
    "print(li)"
   ]
  },
  {
   "cell_type": "code",
   "execution_count": 26,
   "id": "624e9ae4",
   "metadata": {},
   "outputs": [
    {
     "name": "stdout",
     "output_type": "stream",
     "text": [
      "[7, 8, 9]\n",
      "8\n"
     ]
    }
   ],
   "source": [
    "print(li[2])\n",
    "print(li[2][1])"
   ]
  },
  {
   "cell_type": "code",
   "execution_count": 27,
   "id": "31506687",
   "metadata": {},
   "outputs": [
    {
     "data": {
      "text/plain": [
       "list"
      ]
     },
     "execution_count": 27,
     "metadata": {},
     "output_type": "execute_result"
    }
   ],
   "source": [
    "shopping_list = [\"Apple\", \"Banana\", 3, 34.4, True]\n",
    "type(shopping_list)"
   ]
  },
  {
   "cell_type": "code",
   "execution_count": 30,
   "id": "5cf073a4",
   "metadata": {},
   "outputs": [
    {
     "name": "stdout",
     "output_type": "stream",
     "text": [
      "Apple Banana 3 34.4 True "
     ]
    }
   ],
   "source": [
    "for item in shopping_list:\n",
    "    print(item, end=\" \")"
   ]
  },
  {
   "cell_type": "code",
   "execution_count": 31,
   "id": "4ab983f9",
   "metadata": {},
   "outputs": [],
   "source": [
    "#Tuple >> immutable "
   ]
  },
  {
   "cell_type": "code",
   "execution_count": 34,
   "id": "a14e5338",
   "metadata": {},
   "outputs": [
    {
     "data": {
      "text/plain": [
       "(2, 3)"
      ]
     },
     "execution_count": 34,
     "metadata": {},
     "output_type": "execute_result"
    }
   ],
   "source": [
    "point = (2, 3)\n",
    "point"
   ]
  },
  {
   "cell_type": "code",
   "execution_count": 35,
   "id": "19c9937c",
   "metadata": {},
   "outputs": [
    {
     "data": {
      "text/plain": [
       "tuple"
      ]
     },
     "execution_count": 35,
     "metadata": {},
     "output_type": "execute_result"
    }
   ],
   "source": [
    "type(point)"
   ]
  },
  {
   "cell_type": "code",
   "execution_count": 36,
   "id": "2114f377",
   "metadata": {},
   "outputs": [
    {
     "data": {
      "text/plain": [
       "('Abhi', 22, 2024, 2002)"
      ]
     },
     "execution_count": 36,
     "metadata": {},
     "output_type": "execute_result"
    }
   ],
   "source": [
    "point = (\"Abhi\", 22, 2024, 2002)\n",
    "point"
   ]
  },
  {
   "cell_type": "code",
   "execution_count": 37,
   "id": "a7e31634",
   "metadata": {},
   "outputs": [
    {
     "data": {
      "text/plain": [
       "'Abhi'"
      ]
     },
     "execution_count": 37,
     "metadata": {},
     "output_type": "execute_result"
    }
   ],
   "source": [
    "name = (\"Abhi\", \"Bhumi\", \"Adi\")\n",
    "name[0]"
   ]
  },
  {
   "cell_type": "code",
   "execution_count": 39,
   "id": "752fea35",
   "metadata": {},
   "outputs": [],
   "source": [
    "# name[0]= \"Anu\"  - we cannot change in tuple after creation"
   ]
  },
  {
   "cell_type": "code",
   "execution_count": 40,
   "id": "e6154d25",
   "metadata": {},
   "outputs": [
    {
     "data": {
      "text/plain": [
       "(('a', 'b'), ('c', 'd'))"
      ]
     },
     "execution_count": 40,
     "metadata": {},
     "output_type": "execute_result"
    }
   ],
   "source": [
    "box1 = (\"a\", \"b\")\n",
    "box2 = (\"c\", \"d\")\n",
    "\n",
    "choclate_bag = (box1, box2)\n",
    "choclate_bag"
   ]
  },
  {
   "cell_type": "code",
   "execution_count": 41,
   "id": "7ad6bc5c",
   "metadata": {},
   "outputs": [
    {
     "name": "stdout",
     "output_type": "stream",
     "text": [
      "a\n",
      "b\n",
      "c\n",
      "d\n"
     ]
    }
   ],
   "source": [
    "for bag in choclate_bag:\n",
    "    for choc in bag:\n",
    "        print(choc)"
   ]
  },
  {
   "cell_type": "code",
   "execution_count": 42,
   "id": "6a7b9eb1",
   "metadata": {},
   "outputs": [],
   "source": [
    "# sets >> sets are unordered colletion of unique elements, do not contain similar value"
   ]
  },
  {
   "cell_type": "code",
   "execution_count": 43,
   "id": "62487b32",
   "metadata": {},
   "outputs": [
    {
     "data": {
      "text/plain": [
       "set"
      ]
     },
     "execution_count": 43,
     "metadata": {},
     "output_type": "execute_result"
    }
   ],
   "source": [
    "s = {\"red\", \"blue\", }\n",
    "type(s)"
   ]
  },
  {
   "cell_type": "code",
   "execution_count": 44,
   "id": "933ce89e",
   "metadata": {},
   "outputs": [
    {
     "data": {
      "text/plain": [
       "{'blue', 'red'}"
      ]
     },
     "execution_count": 44,
     "metadata": {},
     "output_type": "execute_result"
    }
   ],
   "source": [
    "s = {\"red\", \"blue\", \"blue\"}\n",
    "s"
   ]
  },
  {
   "cell_type": "code",
   "execution_count": 46,
   "id": "2e98109f",
   "metadata": {},
   "outputs": [
    {
     "data": {
      "text/plain": [
       "{'blue', 'red', 'yellow'}"
      ]
     },
     "execution_count": 46,
     "metadata": {},
     "output_type": "execute_result"
    }
   ],
   "source": [
    "s.add(\"yellow\")\n",
    "s"
   ]
  },
  {
   "cell_type": "code",
   "execution_count": 47,
   "id": "6db238d2",
   "metadata": {},
   "outputs": [
    {
     "data": {
      "text/plain": [
       "{'blue', 'red', 'yellow'}"
      ]
     },
     "execution_count": 47,
     "metadata": {},
     "output_type": "execute_result"
    }
   ],
   "source": [
    "s.add(\"yellow\")\n",
    "s"
   ]
  },
  {
   "cell_type": "code",
   "execution_count": 48,
   "id": "61c4fa50",
   "metadata": {},
   "outputs": [
    {
     "name": "stdout",
     "output_type": "stream",
     "text": [
      "{'milk', 'sugar', 'banana', 'apple', 'tea'}\n"
     ]
    }
   ],
   "source": [
    "grocery_list = {\"apple\", \"banana\", \"milk\", \"sugar\", \"banana\", \"sugar\", \"tea\", \"tea\"}\n",
    "print(grocery_list)"
   ]
  },
  {
   "cell_type": "code",
   "execution_count": 50,
   "id": "92528774",
   "metadata": {},
   "outputs": [
    {
     "name": "stdout",
     "output_type": "stream",
     "text": [
      "{'Name': 'Abhijeet', 'Age': 22, 'Position': 'Data analyst', 'Location': 'Indore'}\n"
     ]
    },
    {
     "data": {
      "text/plain": [
       "dict"
      ]
     },
     "execution_count": 50,
     "metadata": {},
     "output_type": "execute_result"
    }
   ],
   "source": [
    "#dictionaries >> key value pair\n",
    "my_dict = {\"Name\":\"Abhijeet\", \"Age\": 22, \"Position\":\"Data analyst\", \"Location\": \"Indore\"}\n",
    "print(my_dict)\n",
    "type(my_dict)"
   ]
  },
  {
   "cell_type": "code",
   "execution_count": 51,
   "id": "a0a05e42",
   "metadata": {},
   "outputs": [
    {
     "data": {
      "text/plain": [
       "'Abhijeet'"
      ]
     },
     "execution_count": 51,
     "metadata": {},
     "output_type": "execute_result"
    }
   ],
   "source": [
    "my_dict[\"Name\"]"
   ]
  },
  {
   "cell_type": "code",
   "execution_count": 52,
   "id": "b53b1bf6",
   "metadata": {},
   "outputs": [
    {
     "data": {
      "text/plain": [
       "{'Dad': 8120331142, 'Mom': 9303940996}"
      ]
     },
     "execution_count": 52,
     "metadata": {},
     "output_type": "execute_result"
    }
   ],
   "source": [
    "phone_book = {\"Dad\": 8120331142, \"Mom\": 9303940996}\n",
    "phone_book"
   ]
  },
  {
   "cell_type": "code",
   "execution_count": 53,
   "id": "3456723a",
   "metadata": {},
   "outputs": [
    {
     "data": {
      "text/plain": [
       "dict_keys(['Dad', 'Mom'])"
      ]
     },
     "execution_count": 53,
     "metadata": {},
     "output_type": "execute_result"
    }
   ],
   "source": [
    "phone_book.keys()"
   ]
  },
  {
   "cell_type": "code",
   "execution_count": 54,
   "id": "bd174a70",
   "metadata": {},
   "outputs": [
    {
     "data": {
      "text/plain": [
       "dict_values([8120331142, 9303940996])"
      ]
     },
     "execution_count": 54,
     "metadata": {},
     "output_type": "execute_result"
    }
   ],
   "source": [
    "phone_book.values()"
   ]
  },
  {
   "cell_type": "code",
   "execution_count": 55,
   "id": "273d6b23",
   "metadata": {},
   "outputs": [
    {
     "data": {
      "text/plain": [
       "{'Dad': 'I have changed number', 'Mom': 9303940996}"
      ]
     },
     "execution_count": 55,
     "metadata": {},
     "output_type": "execute_result"
    }
   ],
   "source": [
    "phone_book[\"Dad\"] = \"I have changed number\"\n",
    "phone_book"
   ]
  },
  {
   "cell_type": "code",
   "execution_count": 56,
   "id": "a1f3603c",
   "metadata": {},
   "outputs": [],
   "source": [
    "from array import array  #array is similar to list >> homogenous data"
   ]
  },
  {
   "cell_type": "code",
   "execution_count": 58,
   "id": "87b83b33",
   "metadata": {},
   "outputs": [
    {
     "name": "stdout",
     "output_type": "stream",
     "text": [
      "array('i', [1, 2, 3, 4, 5])\n"
     ]
    }
   ],
   "source": [
    "arr = array('i', [1, 2, 3, 4, 5])\n",
    "print(arr)"
   ]
  },
  {
   "cell_type": "code",
   "execution_count": 59,
   "id": "00139eb2",
   "metadata": {},
   "outputs": [
    {
     "name": "stdout",
     "output_type": "stream",
     "text": [
      "1\n"
     ]
    }
   ],
   "source": [
    "print(arr[0])"
   ]
  },
  {
   "cell_type": "code",
   "execution_count": null,
   "id": "33c67255",
   "metadata": {},
   "outputs": [],
   "source": []
  }
 ],
 "metadata": {
  "kernelspec": {
   "display_name": "Python 3 (ipykernel)",
   "language": "python",
   "name": "python3"
  },
  "language_info": {
   "codemirror_mode": {
    "name": "ipython",
    "version": 3
   },
   "file_extension": ".py",
   "mimetype": "text/x-python",
   "name": "python",
   "nbconvert_exporter": "python",
   "pygments_lexer": "ipython3",
   "version": "3.11.7"
  }
 },
 "nbformat": 4,
 "nbformat_minor": 5
}
