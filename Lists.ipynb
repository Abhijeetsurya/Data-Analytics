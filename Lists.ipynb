{
 "cells": [
  {
   "cell_type": "code",
   "execution_count": 1,
   "id": "c94c216c",
   "metadata": {},
   "outputs": [],
   "source": [
    "#List are ordered collection of items\n",
    "#[]\n",
    "#List is like a shopping bag which can store everything\n",
    "#Lists are muttable "
   ]
  },
  {
   "cell_type": "code",
   "execution_count": 3,
   "id": "f45e8f95",
   "metadata": {},
   "outputs": [
    {
     "data": {
      "text/plain": [
       "list"
      ]
     },
     "execution_count": 3,
     "metadata": {},
     "output_type": "execute_result"
    }
   ],
   "source": [
    "type([])"
   ]
  },
  {
   "cell_type": "code",
   "execution_count": 50,
   "id": "6ab4cb63",
   "metadata": {},
   "outputs": [
    {
     "data": {
      "text/plain": [
       "['Milk', 'Orange', 1, 2.3, (3+7j), True]"
      ]
     },
     "execution_count": 50,
     "metadata": {},
     "output_type": "execute_result"
    }
   ],
   "source": [
    "grocery_list = [\"Milk\", \"Orange\", 1, 2.3, 3+7j, True]\n",
    "grocery_list"
   ]
  },
  {
   "cell_type": "code",
   "execution_count": 14,
   "id": "0abd6d0c",
   "metadata": {},
   "outputs": [
    {
     "data": {
      "text/plain": [
       "'Milk'"
      ]
     },
     "execution_count": 14,
     "metadata": {},
     "output_type": "execute_result"
    }
   ],
   "source": [
    "#Access list item using index position\n",
    "grocery_list[0]"
   ]
  },
  {
   "cell_type": "code",
   "execution_count": 51,
   "id": "a97bb12d",
   "metadata": {},
   "outputs": [
    {
     "data": {
      "text/plain": [
       "True"
      ]
     },
     "execution_count": 51,
     "metadata": {},
     "output_type": "execute_result"
    }
   ],
   "source": [
    "grocery_list[-1]"
   ]
  },
  {
   "cell_type": "code",
   "execution_count": 52,
   "id": "bac638de",
   "metadata": {},
   "outputs": [
    {
     "data": {
      "text/plain": [
       "['Milk', 'Orange', 1]"
      ]
     },
     "execution_count": 52,
     "metadata": {},
     "output_type": "execute_result"
    }
   ],
   "source": [
    "grocery_list[0:3]"
   ]
  },
  {
   "cell_type": "code",
   "execution_count": 53,
   "id": "18e8322c",
   "metadata": {},
   "outputs": [
    {
     "data": {
      "text/plain": [
       "['Milk', 'Orange', 1, 2.3, (3+7j), True]"
      ]
     },
     "execution_count": 53,
     "metadata": {},
     "output_type": "execute_result"
    }
   ],
   "source": [
    "grocery_list[0:]"
   ]
  },
  {
   "cell_type": "code",
   "execution_count": 54,
   "id": "92c30ba4",
   "metadata": {},
   "outputs": [
    {
     "data": {
      "text/plain": [
       "['Milk', 'Orange', 1, 2.3, (3+7j)]"
      ]
     },
     "execution_count": 54,
     "metadata": {},
     "output_type": "execute_result"
    }
   ],
   "source": [
    "grocery_list[:-1]"
   ]
  },
  {
   "cell_type": "code",
   "execution_count": 56,
   "id": "c026112f",
   "metadata": {},
   "outputs": [
    {
     "name": "stdout",
     "output_type": "stream",
     "text": [
      "['Sugar', 'Tea', 'Chilli', 'Rice']\n"
     ]
    }
   ],
   "source": [
    "#append() - add element at the end of list\n",
    "l1 = [\"Sugar\", \"Tea\", \"Chilli\"]\n",
    "l1.append(\"Rice\")\n",
    "print(l1)"
   ]
  },
  {
   "cell_type": "code",
   "execution_count": 58,
   "id": "256cc61d",
   "metadata": {},
   "outputs": [
    {
     "data": {
      "text/plain": [
       "['Apple', 'Banana', 'Mango']"
      ]
     },
     "execution_count": 58,
     "metadata": {},
     "output_type": "execute_result"
    }
   ],
   "source": [
    "l1 = [\"Apple\", \"Banana\", \"Onion\"]\n",
    "l1[-1] = \"Mango\"\n",
    "l1"
   ]
  },
  {
   "cell_type": "code",
   "execution_count": 63,
   "id": "85a4ef07",
   "metadata": {},
   "outputs": [
    {
     "data": {
      "text/plain": [
       "['Orange', 'Orange', 'Apple', 'Banana', 'Orange', 'Mango']"
      ]
     },
     "execution_count": 63,
     "metadata": {},
     "output_type": "execute_result"
    }
   ],
   "source": [
    "#insert() - use to insert at specific index\n",
    "l1.insert(0, \"Orange\")\n",
    "l1"
   ]
  },
  {
   "cell_type": "code",
   "execution_count": 71,
   "id": "1c4a701d",
   "metadata": {},
   "outputs": [],
   "source": [
    "#extend = used to append elements from another iterables\n",
    "my_list = [\"Apple\", \"Banana\", \"Mango\"]\n",
    "brothers_list = [\"Rice\", \"Dal\", \"Wheat\"]\n",
    "\n",
    "my_list.extend(brothers_list)"
   ]
  },
  {
   "cell_type": "code",
   "execution_count": 72,
   "id": "dfd9f18c",
   "metadata": {},
   "outputs": [
    {
     "data": {
      "text/plain": [
       "['Apple', 'Banana', 'Mango', 'Rice', 'Dal', 'Wheat']"
      ]
     },
     "execution_count": 72,
     "metadata": {},
     "output_type": "execute_result"
    }
   ],
   "source": [
    "my_list"
   ]
  },
  {
   "cell_type": "code",
   "execution_count": 75,
   "id": "3de04dd0",
   "metadata": {},
   "outputs": [
    {
     "data": {
      "text/plain": [
       "{'Apple', 'Banana', 'Dal', 'Mango', 'Rice', 'Wheat'}"
      ]
     },
     "execution_count": 75,
     "metadata": {},
     "output_type": "execute_result"
    }
   ],
   "source": [
    "set(my_list + brothers_list)"
   ]
  },
  {
   "cell_type": "code",
   "execution_count": 76,
   "id": "798d1e89",
   "metadata": {},
   "outputs": [
    {
     "data": {
      "text/plain": [
       "'*****'"
      ]
     },
     "execution_count": 76,
     "metadata": {},
     "output_type": "execute_result"
    }
   ],
   "source": [
    "#Repeatation operation\n",
    "\n",
    "\"*\" * 5"
   ]
  },
  {
   "cell_type": "code",
   "execution_count": 77,
   "id": "e37bb3df",
   "metadata": {},
   "outputs": [
    {
     "data": {
      "text/plain": [
       "'--------------------------------------------------'"
      ]
     },
     "execution_count": 77,
     "metadata": {},
     "output_type": "execute_result"
    }
   ],
   "source": [
    "\"-\" * 50"
   ]
  },
  {
   "cell_type": "code",
   "execution_count": 78,
   "id": "bba243b7",
   "metadata": {},
   "outputs": [
    {
     "data": {
      "text/plain": [
       "[0, 0, 0, 0, 0, 0, 0, 0, 0, 0]"
      ]
     },
     "execution_count": 78,
     "metadata": {},
     "output_type": "execute_result"
    }
   ],
   "source": [
    "[0] * 10"
   ]
  },
  {
   "cell_type": "code",
   "execution_count": 79,
   "id": "42a5ef6d",
   "metadata": {},
   "outputs": [
    {
     "data": {
      "text/plain": [
       "['Milk', 'Orange', 1, 2.3, (3+7j), True]"
      ]
     },
     "execution_count": 79,
     "metadata": {},
     "output_type": "execute_result"
    }
   ],
   "source": [
    "#membership\n",
    "grocery_list"
   ]
  },
  {
   "cell_type": "code",
   "execution_count": 80,
   "id": "c907eadc",
   "metadata": {},
   "outputs": [
    {
     "data": {
      "text/plain": [
       "True"
      ]
     },
     "execution_count": 80,
     "metadata": {},
     "output_type": "execute_result"
    }
   ],
   "source": [
    "\"Milk\" in grocery_list"
   ]
  },
  {
   "cell_type": "code",
   "execution_count": 81,
   "id": "084ea6f7",
   "metadata": {},
   "outputs": [
    {
     "data": {
      "text/plain": [
       "False"
      ]
     },
     "execution_count": 81,
     "metadata": {},
     "output_type": "execute_result"
    }
   ],
   "source": [
    "\"Banana\" in grocery_list"
   ]
  },
  {
   "cell_type": "code",
   "execution_count": 82,
   "id": "69bc6a04",
   "metadata": {},
   "outputs": [
    {
     "data": {
      "text/plain": [
       "True"
      ]
     },
     "execution_count": 82,
     "metadata": {},
     "output_type": "execute_result"
    }
   ],
   "source": [
    "\"Banana\" not in grocery_list "
   ]
  },
  {
   "cell_type": "code",
   "execution_count": 85,
   "id": "99adb1df",
   "metadata": {},
   "outputs": [
    {
     "data": {
      "text/plain": [
       "['Milk', 'Orange', 1, 2.3, (3+7j), True]"
      ]
     },
     "execution_count": 85,
     "metadata": {},
     "output_type": "execute_result"
    }
   ],
   "source": [
    "a = grocery_list   # This is shallow copy in this if the original is change it will also change\n",
    "a"
   ]
  },
  {
   "cell_type": "code",
   "execution_count": 87,
   "id": "6d99f2c5",
   "metadata": {},
   "outputs": [
    {
     "data": {
      "text/plain": [
       "['Banana', 'Orange', 1, 2.3, (3+7j), True]"
      ]
     },
     "execution_count": 87,
     "metadata": {},
     "output_type": "execute_result"
    }
   ],
   "source": [
    "grocery_list[0] = \"Banana\"\n",
    "grocery_list\n"
   ]
  },
  {
   "cell_type": "code",
   "execution_count": 88,
   "id": "f76fc2fe",
   "metadata": {},
   "outputs": [
    {
     "data": {
      "text/plain": [
       "['Banana', 'Orange', 1, 2.3, (3+7j), True]"
      ]
     },
     "execution_count": 88,
     "metadata": {},
     "output_type": "execute_result"
    }
   ],
   "source": [
    "a"
   ]
  },
  {
   "cell_type": "code",
   "execution_count": 5,
   "id": "3bdfb346",
   "metadata": {},
   "outputs": [
    {
     "data": {
      "text/plain": [
       "['Milk', 'Orange', 1, 2.3, (3+7j), True]"
      ]
     },
     "execution_count": 5,
     "metadata": {},
     "output_type": "execute_result"
    }
   ],
   "source": [
    "grocery_list = [\"Milk\", \"Orange\", 1, 2.3, 3+7j, True]\n",
    "b = grocery_list.copy()  #deepcopy will not change in other list\n",
    "b"
   ]
  },
  {
   "cell_type": "code",
   "execution_count": 53,
   "id": "96762511",
   "metadata": {},
   "outputs": [
    {
     "data": {
      "text/plain": [
       "[1, 2, 3, 4, 5, 6, 7, 8, 9, 10]"
      ]
     },
     "execution_count": 53,
     "metadata": {},
     "output_type": "execute_result"
    }
   ],
   "source": [
    "l1 = [1, 2, 3, 4, 5]\n",
    "l2 =[6, 7, 8, 9, 10]\n",
    "l1.extend(l2)\n",
    "l1"
   ]
  },
  {
   "cell_type": "code",
   "execution_count": 8,
   "id": "1af0c20f",
   "metadata": {},
   "outputs": [
    {
     "data": {
      "text/plain": [
       "['Algorithm', 'Data Structure', 'Web dev']"
      ]
     },
     "execution_count": 8,
     "metadata": {},
     "output_type": "execute_result"
    }
   ],
   "source": [
    "#Sorting list \n",
    "book_list = [\"Data Structure\", \"Algorithm\", \"Web dev\"]\n",
    "sorted(book_list)"
   ]
  },
  {
   "cell_type": "code",
   "execution_count": 9,
   "id": "9aa1509c",
   "metadata": {},
   "outputs": [
    {
     "data": {
      "text/plain": [
       "1"
      ]
     },
     "execution_count": 9,
     "metadata": {},
     "output_type": "execute_result"
    }
   ],
   "source": [
    "book_list.index(\"Algorithm\")"
   ]
  },
  {
   "cell_type": "code",
   "execution_count": 10,
   "id": "5199ce2e",
   "metadata": {},
   "outputs": [
    {
     "data": {
      "text/plain": [
       "2"
      ]
     },
     "execution_count": 10,
     "metadata": {},
     "output_type": "execute_result"
    }
   ],
   "source": [
    "book_list = [\"Data Structure\", \"Data Structure\",\"Algorithm\", \"Web dev\"]\n",
    "book_list.count(\"Data Structure\")"
   ]
  },
  {
   "cell_type": "code",
   "execution_count": 52,
   "id": "6b7eaec0",
   "metadata": {},
   "outputs": [
    {
     "data": {
      "text/plain": [
       "['Web dev', 'Data Structure', 'Algorithm']"
      ]
     },
     "execution_count": 52,
     "metadata": {},
     "output_type": "execute_result"
    }
   ],
   "source": [
    "book_list.reverse()\n",
    "book_list"
   ]
  },
  {
   "cell_type": "code",
   "execution_count": 51,
   "id": "84ce684c",
   "metadata": {},
   "outputs": [],
   "source": [
    "book_list.remove(\"Data Structure\")"
   ]
  },
  {
   "cell_type": "code",
   "execution_count": 12,
   "id": "cf9bee6b",
   "metadata": {},
   "outputs": [
    {
     "data": {
      "text/plain": [
       "['Data Structure', 'Algorithm', 'Web dev']"
      ]
     },
     "execution_count": 12,
     "metadata": {},
     "output_type": "execute_result"
    }
   ],
   "source": [
    "book_list"
   ]
  },
  {
   "cell_type": "code",
   "execution_count": 13,
   "id": "06e142c6",
   "metadata": {},
   "outputs": [],
   "source": [
    "book_list.sort()"
   ]
  },
  {
   "cell_type": "code",
   "execution_count": 14,
   "id": "12b01df7",
   "metadata": {},
   "outputs": [
    {
     "data": {
      "text/plain": [
       "['Algorithm', 'Data Structure', 'Web dev']"
      ]
     },
     "execution_count": 14,
     "metadata": {},
     "output_type": "execute_result"
    }
   ],
   "source": [
    "book_list"
   ]
  },
  {
   "cell_type": "code",
   "execution_count": 41,
   "id": "78fd0851",
   "metadata": {},
   "outputs": [
    {
     "data": {
      "text/plain": [
       "['Web dev', 'Data Structure', 'Data Structure', 'Algorithm']"
      ]
     },
     "execution_count": 41,
     "metadata": {},
     "output_type": "execute_result"
    }
   ],
   "source": [
    "#Sort Decending\n",
    "book_list = [\"Data Structure\", \"Data Structure\",\"Algorithm\", \"Web dev\"]\n",
    "book_list.sort(reverse = True) \n",
    "book_list"
   ]
  },
  {
   "cell_type": "code",
   "execution_count": 15,
   "id": "8bb8fd91",
   "metadata": {},
   "outputs": [],
   "source": [
    "del book_list"
   ]
  },
  {
   "cell_type": "code",
   "execution_count": 27,
   "id": "34dd3a25",
   "metadata": {},
   "outputs": [
    {
     "data": {
      "text/plain": [
       "['Data Structure', 'Algorithm']"
      ]
     },
     "execution_count": 27,
     "metadata": {},
     "output_type": "execute_result"
    }
   ],
   "source": [
    "book_list"
   ]
  },
  {
   "cell_type": "code",
   "execution_count": 17,
   "id": "d711d98d",
   "metadata": {},
   "outputs": [],
   "source": [
    "book_list = [\"Data Structure\", \"Data Structure\",\"Algorithm\", \"Web dev\"]\n",
    "book_list.clear()"
   ]
  },
  {
   "cell_type": "code",
   "execution_count": 18,
   "id": "372eefe8",
   "metadata": {},
   "outputs": [
    {
     "data": {
      "text/plain": [
       "[]"
      ]
     },
     "execution_count": 18,
     "metadata": {},
     "output_type": "execute_result"
    }
   ],
   "source": [
    "book_list"
   ]
  },
  {
   "cell_type": "code",
   "execution_count": 20,
   "id": "4fa6e462",
   "metadata": {},
   "outputs": [
    {
     "data": {
      "text/plain": [
       "'Web dev'"
      ]
     },
     "execution_count": 20,
     "metadata": {},
     "output_type": "execute_result"
    }
   ],
   "source": [
    "book_list = [\"Data Structure\", \"Data Structure\",\"Algorithm\", \"Web dev\"]\n",
    "book_list.pop()"
   ]
  },
  {
   "cell_type": "code",
   "execution_count": 21,
   "id": "ccd58eca",
   "metadata": {},
   "outputs": [
    {
     "data": {
      "text/plain": [
       "['Data Structure', 'Data Structure', 'Algorithm']"
      ]
     },
     "execution_count": 21,
     "metadata": {},
     "output_type": "execute_result"
    }
   ],
   "source": [
    "book_list"
   ]
  },
  {
   "cell_type": "code",
   "execution_count": 22,
   "id": "0616cd94",
   "metadata": {},
   "outputs": [
    {
     "data": {
      "text/plain": [
       "'Data Structure'"
      ]
     },
     "execution_count": 22,
     "metadata": {},
     "output_type": "execute_result"
    }
   ],
   "source": [
    "book_list.pop(1)"
   ]
  },
  {
   "cell_type": "code",
   "execution_count": 6,
   "id": "2884a778",
   "metadata": {},
   "outputs": [
    {
     "data": {
      "text/plain": [
       "[20, 40, 60, 80, 100]"
      ]
     },
     "execution_count": 6,
     "metadata": {},
     "output_type": "execute_result"
    }
   ],
   "source": [
    "new"
   ]
  },
  {
   "cell_type": "code",
   "execution_count": 10,
   "id": "271fdfd7",
   "metadata": {},
   "outputs": [],
   "source": [
    "a = [a* 2 for a in price]"
   ]
  },
  {
   "cell_type": "code",
   "execution_count": 11,
   "id": "c90e8fee",
   "metadata": {},
   "outputs": [
    {
     "data": {
      "text/plain": [
       "[20, 40, 60, 80, 100]"
      ]
     },
     "execution_count": 11,
     "metadata": {},
     "output_type": "execute_result"
    }
   ],
   "source": [
    "a"
   ]
  },
  {
   "cell_type": "code",
   "execution_count": 15,
   "id": "50bfe4e4",
   "metadata": {},
   "outputs": [
    {
     "data": {
      "text/plain": [
       "['ppt', 'pdf', 'jpg', 'py']"
      ]
     },
     "execution_count": 15,
     "metadata": {},
     "output_type": "execute_result"
    }
   ],
   "source": [
    "file_name = [\"doc1.ppt\", \"doc2.pdf\", \"doc3.jpg\", \"doc4.py\"]\n",
    "[file.split(\".\")[-1] for file in file_name]"
   ]
  },
  {
   "cell_type": "code",
   "execution_count": 17,
   "id": "c93dc988",
   "metadata": {},
   "outputs": [
    {
     "data": {
      "text/plain": [
       "['abhi@yahoo.com', 'abhijeet@yahoo.com']"
      ]
     },
     "execution_count": 17,
     "metadata": {},
     "output_type": "execute_result"
    }
   ],
   "source": [
    "#conditional list comprehension\n",
    "\n",
    "email_address = [\"abhisury@gmail.com\", \"abhi@yahoo.com\", \"abhijeet@yahoo.com\"]\n",
    "[email for email in email_address if email.endswith(\"@yahoo.com\")]"
   ]
  },
  {
   "cell_type": "code",
   "execution_count": 18,
   "id": "ad69a474",
   "metadata": {},
   "outputs": [
    {
     "name": "stdout",
     "output_type": "stream",
     "text": [
      "[1, 4, 9, 16, 25, 36]\n"
     ]
    }
   ],
   "source": [
    "lst1 = [1, 2, 3, 4, 5, 6]\n",
    "lst2 = [i**2 for i in lst1]\n",
    "print(lst2)"
   ]
  },
  {
   "cell_type": "code",
   "execution_count": 19,
   "id": "2a1ed2cd",
   "metadata": {},
   "outputs": [
    {
     "name": "stdout",
     "output_type": "stream",
     "text": [
      "[2, 4, 6, 8, 10]\n"
     ]
    }
   ],
   "source": [
    "numbers = [1, 2, 3, 4, 5, 6, 7, 8, 9, 10]\n",
    "even_numbers = [n for n in numbers if n%2==0]\n",
    "print(even_numbers)"
   ]
  },
  {
   "cell_type": "code",
   "execution_count": 20,
   "id": "0c59eb27",
   "metadata": {},
   "outputs": [
    {
     "name": "stdout",
     "output_type": "stream",
     "text": [
      "[1, 3, 5, 7, 9]\n"
     ]
    }
   ],
   "source": [
    "odd_numbers = [n for n in numbers if n%2!=0]\n",
    "print(odd_numbers)"
   ]
  },
  {
   "cell_type": "code",
   "execution_count": 24,
   "id": "45a94675",
   "metadata": {},
   "outputs": [
    {
     "name": "stdout",
     "output_type": "stream",
     "text": [
      "[1, 2, 3, 4, 5, 6, 7, 8, 9]\n"
     ]
    }
   ],
   "source": [
    "lst = [[1, 2, 3], [4, 5, 6], [7, 8, 9]]\n",
    "flattend_list = [item for sublist in lst for item in sublist]\n",
    "print(flattend_list)"
   ]
  },
  {
   "cell_type": "code",
   "execution_count": 25,
   "id": "d20a19e3",
   "metadata": {},
   "outputs": [
    {
     "name": "stdout",
     "output_type": "stream",
     "text": [
      "['A', 'B', 'M']\n"
     ]
    }
   ],
   "source": [
    "fruits = [\"Apple\", \"Banana\", \"Mango\"]\n",
    "f1 = [first[0] for first in fruits]\n",
    "print(f1)"
   ]
  },
  {
   "cell_type": "code",
   "execution_count": 26,
   "id": "ec2ca79c",
   "metadata": {},
   "outputs": [
    {
     "name": "stdout",
     "output_type": "stream",
     "text": [
      "[4, 16, 36, 64, 100]\n"
     ]
    }
   ],
   "source": [
    "num = [1, 2, 3, 4, 5, 6, 7, 8, 9, 10]\n",
    "squareofeven = [n**2 for n in num if n%2==0]\n",
    "print(squareofeven)"
   ]
  },
  {
   "cell_type": "code",
   "execution_count": 27,
   "id": "6ba7104c",
   "metadata": {},
   "outputs": [
    {
     "name": "stdout",
     "output_type": "stream",
     "text": [
      "[1, 2, 3, 4, 5, 6, 7]\n"
     ]
    }
   ],
   "source": [
    "num = ['1', '2', '3', '4', '5', '6', '7']\n",
    "toint = [int(i) for i in num]\n",
    "print(toint)"
   ]
  },
  {
   "cell_type": "code",
   "execution_count": 29,
   "id": "8edc028a",
   "metadata": {},
   "outputs": [
    {
     "data": {
      "text/plain": [
       "[3, 5, 7, 9]"
      ]
     },
     "execution_count": 29,
     "metadata": {},
     "output_type": "execute_result"
    }
   ],
   "source": [
    "fib = [1, 2, 3, 4, 5, 6]\n",
    "[fib[i-1] + fib[i-2] for i in range(2, len(fib))]"
   ]
  },
  {
   "cell_type": "code",
   "execution_count": 30,
   "id": "0d392562",
   "metadata": {},
   "outputs": [
    {
     "data": {
      "text/plain": [
       "[0, 2, 4, 6, 8, 10, 12, 14, 16, 18, 20, 22]"
      ]
     },
     "execution_count": 30,
     "metadata": {},
     "output_type": "execute_result"
    }
   ],
   "source": [
    "number = 24\n",
    "[i for i in range(number-1) if i%2==0]"
   ]
  },
  {
   "cell_type": "code",
   "execution_count": 32,
   "id": "2150f6dd",
   "metadata": {},
   "outputs": [
    {
     "name": "stdout",
     "output_type": "stream",
     "text": [
      "[2, 3, 5, 7, 11, 13, 17, 19, 23, 29, 31, 37, 41, 43, 47, 53, 59, 61, 67, 71, 73, 79, 83, 89, 97]\n"
     ]
    }
   ],
   "source": [
    "number = 100\n",
    "primes = [i for i in range(2, number) if all(i % j != 0 for j in range(2, int(i**0.5) + 1))]\n",
    "print(primes)"
   ]
  },
  {
   "cell_type": "code",
   "execution_count": 34,
   "id": "d2c61425",
   "metadata": {},
   "outputs": [
    {
     "name": "stdout",
     "output_type": "stream",
     "text": [
      "[(1, 1), (1, 4), (1, 9), (2, 1), (2, 4), (2, 9), (3, 1), (3, 4), (3, 9)]\n"
     ]
    }
   ],
   "source": [
    "#Nested list comprehension \n",
    "l1 = [1, 2, 3]\n",
    "l2 = [1, 4, 9]\n",
    "nested=[(i, j) for i in l1 for j in l2]\n",
    "print(nested)"
   ]
  },
  {
   "cell_type": "code",
   "execution_count": 35,
   "id": "e6c7dcaf",
   "metadata": {},
   "outputs": [],
   "source": [
    "#list as stack and queue\n",
    "\n",
    "#stack >> last in first out principle > the last element added to the stack will bethe first one to be removed\n"
   ]
  },
  {
   "cell_type": "code",
   "execution_count": 36,
   "id": "95347ae5",
   "metadata": {},
   "outputs": [
    {
     "data": {
      "text/plain": [
       "['book_1', 'book_2', 'book_3']"
      ]
     },
     "execution_count": 36,
     "metadata": {},
     "output_type": "execute_result"
    }
   ],
   "source": [
    "book = []\n",
    "book.append(\"book_1\")\n",
    "book.append(\"book_2\")\n",
    "book.append(\"book_3\")\n",
    "\n",
    "book"
   ]
  },
  {
   "cell_type": "code",
   "execution_count": 37,
   "id": "5b6f2abf",
   "metadata": {},
   "outputs": [
    {
     "data": {
      "text/plain": [
       "'book_3'"
      ]
     },
     "execution_count": 37,
     "metadata": {},
     "output_type": "execute_result"
    }
   ],
   "source": [
    "book.pop()"
   ]
  },
  {
   "cell_type": "code",
   "execution_count": 38,
   "id": "0aa7fa27",
   "metadata": {},
   "outputs": [
    {
     "data": {
      "text/plain": [
       "'book_2'"
      ]
     },
     "execution_count": 38,
     "metadata": {},
     "output_type": "execute_result"
    }
   ],
   "source": [
    "book.pop()"
   ]
  },
  {
   "cell_type": "code",
   "execution_count": 42,
   "id": "688d27a7",
   "metadata": {},
   "outputs": [],
   "source": [
    "#Queue >> FIFO >> First in first out\n",
    "\n",
    "#Orederly sequential manner\n",
    "#two ends "
   ]
  },
  {
   "cell_type": "code",
   "execution_count": 43,
   "id": "bd79b469",
   "metadata": {},
   "outputs": [],
   "source": [
    "from collections import deque\n",
    "\n",
    "checkout = deque()\n",
    "checkout.append(\"customer_1\")\n",
    "checkout.append(\"customer_2\")\n",
    "checkout.append(\"customer_3\")\n",
    "checkout.append(\"customer_4\")"
   ]
  },
  {
   "cell_type": "code",
   "execution_count": 44,
   "id": "78a4a171",
   "metadata": {},
   "outputs": [
    {
     "data": {
      "text/plain": [
       "deque(['customer_1', 'customer_2', 'customer_3', 'customer_4'])"
      ]
     },
     "execution_count": 44,
     "metadata": {},
     "output_type": "execute_result"
    }
   ],
   "source": [
    "checkout"
   ]
  },
  {
   "cell_type": "code",
   "execution_count": 45,
   "id": "3a7ef048",
   "metadata": {},
   "outputs": [
    {
     "name": "stdout",
     "output_type": "stream",
     "text": [
      "customer_1\n",
      "customer_2\n",
      "customer_3\n",
      "customer_4\n"
     ]
    }
   ],
   "source": [
    "while checkout:\n",
    "    customer = checkout.popleft()\n",
    "    print(customer)"
   ]
  },
  {
   "cell_type": "code",
   "execution_count": 46,
   "id": "978c347f",
   "metadata": {},
   "outputs": [],
   "source": [
    "from queue import Queue"
   ]
  },
  {
   "cell_type": "code",
   "execution_count": 47,
   "id": "63656398",
   "metadata": {},
   "outputs": [],
   "source": [
    "print_queue =Queue()\n",
    "print_queue.put('Print job 1')\n",
    "print_queue.put('Print job 2')\n",
    "print_queue.put('Print job 3')\n",
    "print_queue.put('Print job 4')"
   ]
  },
  {
   "cell_type": "code",
   "execution_count": 49,
   "id": "b0653957",
   "metadata": {},
   "outputs": [
    {
     "name": "stdout",
     "output_type": "stream",
     "text": [
      "Print job 1\n"
     ]
    }
   ],
   "source": [
    "while not print_queue.empty():\n",
    "    print_job = print_queue.get()\n",
    "    print(print_job)"
   ]
  },
  {
   "cell_type": "code",
   "execution_count": null,
   "id": "ff29063c",
   "metadata": {},
   "outputs": [],
   "source": []
  },
  {
   "cell_type": "code",
   "execution_count": null,
   "id": "4ed839dc",
   "metadata": {},
   "outputs": [],
   "source": []
  }
 ],
 "metadata": {
  "kernelspec": {
   "display_name": "Python 3 (ipykernel)",
   "language": "python",
   "name": "python3"
  },
  "language_info": {
   "codemirror_mode": {
    "name": "ipython",
    "version": 3
   },
   "file_extension": ".py",
   "mimetype": "text/x-python",
   "name": "python",
   "nbconvert_exporter": "python",
   "pygments_lexer": "ipython3",
   "version": "3.11.7"
  }
 },
 "nbformat": 4,
 "nbformat_minor": 5
}
