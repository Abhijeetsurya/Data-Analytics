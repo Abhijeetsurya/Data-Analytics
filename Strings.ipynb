{
 "cells": [
  {
   "cell_type": "code",
   "execution_count": 1,
   "id": "c0a27807",
   "metadata": {},
   "outputs": [],
   "source": [
    "#string is sequence of character \n",
    "#characterd represented using numerical values\n",
    "#ASCII (7 bits) and UNICODE (16 bits)\n",
    "#UTF-8, UTF 16 >>popular encoding schemes"
   ]
  },
  {
   "cell_type": "code",
   "execution_count": 2,
   "id": "ae3ed770",
   "metadata": {},
   "outputs": [
    {
     "data": {
      "text/plain": [
       "65"
      ]
     },
     "execution_count": 2,
     "metadata": {},
     "output_type": "execute_result"
    }
   ],
   "source": [
    "#ASCII representation\n",
    "char = \"A\"  #character stored in ASCII value in computer \n",
    "ord(char)"
   ]
  },
  {
   "cell_type": "code",
   "execution_count": 4,
   "id": "a3cd755d",
   "metadata": {},
   "outputs": [
    {
     "data": {
      "text/plain": [
       "66"
      ]
     },
     "execution_count": 4,
     "metadata": {},
     "output_type": "execute_result"
    }
   ],
   "source": [
    "char = \"B\"\n",
    "ord(char)"
   ]
  },
  {
   "cell_type": "code",
   "execution_count": 5,
   "id": "edfaee86",
   "metadata": {},
   "outputs": [
    {
     "data": {
      "text/plain": [
       "97"
      ]
     },
     "execution_count": 5,
     "metadata": {},
     "output_type": "execute_result"
    }
   ],
   "source": [
    "char =\"a\"\n",
    "ord(char)"
   ]
  },
  {
   "cell_type": "code",
   "execution_count": 8,
   "id": "16631185",
   "metadata": {},
   "outputs": [
    {
     "data": {
      "text/plain": [
       "'p'"
      ]
     },
     "execution_count": 8,
     "metadata": {},
     "output_type": "execute_result"
    }
   ],
   "source": [
    "#convert numberical value to alphabate\n",
    "chr(112)"
   ]
  },
  {
   "cell_type": "code",
   "execution_count": 10,
   "id": "7db61a6b",
   "metadata": {},
   "outputs": [
    {
     "data": {
      "text/plain": [
       "'N'"
      ]
     },
     "execution_count": 10,
     "metadata": {},
     "output_type": "execute_result"
    }
   ],
   "source": [
    "chr(78)"
   ]
  },
  {
   "cell_type": "code",
   "execution_count": 11,
   "id": "57fa1b96",
   "metadata": {},
   "outputs": [
    {
     "data": {
      "text/plain": [
       "'Ω'"
      ]
     },
     "execution_count": 11,
     "metadata": {},
     "output_type": "execute_result"
    }
   ],
   "source": [
    "# UNICODE representation\n",
    "'\\u03A9'"
   ]
  },
  {
   "cell_type": "code",
   "execution_count": 12,
   "id": "d9352dce",
   "metadata": {},
   "outputs": [
    {
     "data": {
      "text/plain": [
       "'Σ'"
      ]
     },
     "execution_count": 12,
     "metadata": {},
     "output_type": "execute_result"
    }
   ],
   "source": [
    "'\\u03A3'"
   ]
  },
  {
   "cell_type": "code",
   "execution_count": 13,
   "id": "6a0c2d2d",
   "metadata": {},
   "outputs": [
    {
     "data": {
      "text/plain": [
       "'Ψ'"
      ]
     },
     "execution_count": 13,
     "metadata": {},
     "output_type": "execute_result"
    }
   ],
   "source": [
    "'\\u03A8'"
   ]
  },
  {
   "cell_type": "code",
   "execution_count": 14,
   "id": "616de10b",
   "metadata": {},
   "outputs": [
    {
     "data": {
      "text/plain": [
       "'ॳ'"
      ]
     },
     "execution_count": 14,
     "metadata": {},
     "output_type": "execute_result"
    }
   ],
   "source": [
    "'\\u0973'"
   ]
  },
  {
   "cell_type": "code",
   "execution_count": 15,
   "id": "b1284183",
   "metadata": {},
   "outputs": [
    {
     "data": {
      "text/plain": [
       "'ΰ'"
      ]
     },
     "execution_count": 15,
     "metadata": {},
     "output_type": "execute_result"
    }
   ],
   "source": [
    "chr(944)"
   ]
  },
  {
   "cell_type": "code",
   "execution_count": 16,
   "id": "f4afd3dc",
   "metadata": {},
   "outputs": [
    {
     "data": {
      "text/plain": [
       "'\\x03'"
      ]
     },
     "execution_count": 16,
     "metadata": {},
     "output_type": "execute_result"
    }
   ],
   "source": [
    "chr(3)"
   ]
  },
  {
   "cell_type": "code",
   "execution_count": 17,
   "id": "7c38ddb1",
   "metadata": {},
   "outputs": [
    {
     "data": {
      "text/plain": [
       "'߈'"
      ]
     },
     "execution_count": 17,
     "metadata": {},
     "output_type": "execute_result"
    }
   ],
   "source": [
    "chr(1992)"
   ]
  },
  {
   "cell_type": "code",
   "execution_count": 19,
   "id": "832302ae",
   "metadata": {},
   "outputs": [
    {
     "name": "stdout",
     "output_type": "stream",
     "text": [
      "PWskills\n"
     ]
    },
    {
     "data": {
      "text/plain": [
       "str"
      ]
     },
     "execution_count": 19,
     "metadata": {},
     "output_type": "execute_result"
    }
   ],
   "source": [
    "str1 = \"PWskills\"\n",
    "print(str1)\n",
    "type(str1)"
   ]
  },
  {
   "cell_type": "code",
   "execution_count": 20,
   "id": "b2078ce0",
   "metadata": {},
   "outputs": [
    {
     "data": {
      "text/plain": [
       "\"'I'm a student\""
      ]
     },
     "execution_count": 20,
     "metadata": {},
     "output_type": "execute_result"
    }
   ],
   "source": [
    "\"'I'm a student\""
   ]
  },
  {
   "cell_type": "code",
   "execution_count": 21,
   "id": "e1488380",
   "metadata": {},
   "outputs": [
    {
     "data": {
      "text/plain": [
       "\"'I'm a student\\n'I'm a student\""
      ]
     },
     "execution_count": 21,
     "metadata": {},
     "output_type": "execute_result"
    }
   ],
   "source": [
    "\"\"\"'I'm a student\n",
    "'I'm a student\"\"\"\n",
    "\n"
   ]
  },
  {
   "cell_type": "code",
   "execution_count": 25,
   "id": "993ea129",
   "metadata": {},
   "outputs": [
    {
     "name": "stdout",
     "output_type": "stream",
     "text": [
      "Hello, World\n"
     ]
    }
   ],
   "source": [
    "#concatenation\n",
    "str1 = \"Hello\"\n",
    "str2 = \"World\"\n",
    "print(str1 + \", \"+ str2)"
   ]
  },
  {
   "cell_type": "code",
   "execution_count": 26,
   "id": "4210bed4",
   "metadata": {},
   "outputs": [
    {
     "data": {
      "text/plain": [
       "'string > Concatenation'"
      ]
     },
     "execution_count": 26,
     "metadata": {},
     "output_type": "execute_result"
    }
   ],
   "source": [
    "\"string\" + \" > \" + \"Concatenation\""
   ]
  },
  {
   "cell_type": "code",
   "execution_count": 27,
   "id": "237a3893",
   "metadata": {},
   "outputs": [
    {
     "data": {
      "text/plain": [
       "'I'"
      ]
     },
     "execution_count": 27,
     "metadata": {},
     "output_type": "execute_result"
    }
   ],
   "source": [
    "#Extract a string\n",
    "str1 = \"I am good student\"\n",
    "str1[0]"
   ]
  },
  {
   "cell_type": "code",
   "execution_count": 29,
   "id": "a4cb702f",
   "metadata": {},
   "outputs": [
    {
     "data": {
      "text/plain": [
       "'I am'"
      ]
     },
     "execution_count": 29,
     "metadata": {},
     "output_type": "execute_result"
    }
   ],
   "source": [
    "str1[0:4]"
   ]
  },
  {
   "cell_type": "code",
   "execution_count": 30,
   "id": "3eef5e79",
   "metadata": {},
   "outputs": [
    {
     "data": {
      "text/plain": [
       "'good'"
      ]
     },
     "execution_count": 30,
     "metadata": {},
     "output_type": "execute_result"
    }
   ],
   "source": [
    "str1[5:9]"
   ]
  },
  {
   "cell_type": "code",
   "execution_count": 31,
   "id": "d70504e4",
   "metadata": {},
   "outputs": [
    {
     "data": {
      "text/plain": [
       "'wskills'"
      ]
     },
     "execution_count": 31,
     "metadata": {},
     "output_type": "execute_result"
    }
   ],
   "source": [
    "str2 = \"Pwskills\"\n",
    "str2[1:]"
   ]
  },
  {
   "cell_type": "code",
   "execution_count": 32,
   "id": "003e6218",
   "metadata": {},
   "outputs": [
    {
     "data": {
      "text/plain": [
       "'s'"
      ]
     },
     "execution_count": 32,
     "metadata": {},
     "output_type": "execute_result"
    }
   ],
   "source": [
    "str2[-1]"
   ]
  },
  {
   "cell_type": "code",
   "execution_count": 33,
   "id": "0be0c145",
   "metadata": {},
   "outputs": [
    {
     "data": {
      "text/plain": [
       "'i'"
      ]
     },
     "execution_count": 33,
     "metadata": {},
     "output_type": "execute_result"
    }
   ],
   "source": [
    "str2[-4]"
   ]
  },
  {
   "cell_type": "code",
   "execution_count": 34,
   "id": "876ecdfe",
   "metadata": {},
   "outputs": [
    {
     "data": {
      "text/plain": [
       "'Pwski'"
      ]
     },
     "execution_count": 34,
     "metadata": {},
     "output_type": "execute_result"
    }
   ],
   "source": [
    "str2[:-3] # except last three character"
   ]
  },
  {
   "cell_type": "code",
   "execution_count": 35,
   "id": "726e2005",
   "metadata": {},
   "outputs": [
    {
     "data": {
      "text/plain": [
       "'lls'"
      ]
     },
     "execution_count": 35,
     "metadata": {},
     "output_type": "execute_result"
    }
   ],
   "source": [
    "str2[-3:] #only last three character"
   ]
  },
  {
   "cell_type": "code",
   "execution_count": 36,
   "id": "e91b9d31",
   "metadata": {},
   "outputs": [
    {
     "data": {
      "text/plain": [
       "'Hello world'"
      ]
     },
     "execution_count": 36,
     "metadata": {},
     "output_type": "execute_result"
    }
   ],
   "source": [
    "str = \"Hello world\"\n",
    "str[::1]"
   ]
  },
  {
   "cell_type": "code",
   "execution_count": 40,
   "id": "552feb63",
   "metadata": {},
   "outputs": [
    {
     "data": {
      "text/plain": [
       "'Ahje'"
      ]
     },
     "execution_count": 40,
     "metadata": {},
     "output_type": "execute_result"
    }
   ],
   "source": [
    "str = \"Abhijeet\"\n",
    "str[0:9:2]   #Return every altrante value from 0 to 9 index"
   ]
  },
  {
   "cell_type": "code",
   "execution_count": 42,
   "id": "87a24119",
   "metadata": {},
   "outputs": [
    {
     "data": {
      "text/plain": [
       "'dlrow olleH'"
      ]
     },
     "execution_count": 42,
     "metadata": {},
     "output_type": "execute_result"
    }
   ],
   "source": [
    "str = \"Hello world\"\n",
    "str[::-1] #reverse the string"
   ]
  },
  {
   "cell_type": "code",
   "execution_count": 46,
   "id": "7fa45d95",
   "metadata": {},
   "outputs": [
    {
     "data": {
      "text/plain": [
       "'s'"
      ]
     },
     "execution_count": 46,
     "metadata": {},
     "output_type": "execute_result"
    }
   ],
   "source": [
    "s = \"PWskills\"\n",
    "#s[9] # through error if we give out of range index number\n",
    "s[7]"
   ]
  },
  {
   "cell_type": "code",
   "execution_count": 47,
   "id": "491633f8",
   "metadata": {},
   "outputs": [],
   "source": [
    "# strings are immutaable, it means we cannot change in string after creation"
   ]
  },
  {
   "cell_type": "code",
   "execution_count": 50,
   "id": "213a24e6",
   "metadata": {},
   "outputs": [],
   "source": [
    "s = \"PWskills\"\n",
    "#s[1] = \"X\"  - we cannot do this because string is immutable"
   ]
  },
  {
   "cell_type": "code",
   "execution_count": 51,
   "id": "dc2bc8c2",
   "metadata": {},
   "outputs": [
    {
     "data": {
      "text/plain": [
       "'PWskills'"
      ]
     },
     "execution_count": 51,
     "metadata": {},
     "output_type": "execute_result"
    }
   ],
   "source": [
    "\"PW\" + \"skills\"\n"
   ]
  },
  {
   "cell_type": "code",
   "execution_count": 52,
   "id": "ec229547",
   "metadata": {},
   "outputs": [
    {
     "data": {
      "text/plain": [
       "'I am a Teacher'"
      ]
     },
     "execution_count": 52,
     "metadata": {},
     "output_type": "execute_result"
    }
   ],
   "source": [
    "# we can change string charatcter using replace() function \n",
    "s = \"I am a student\"\n",
    "s.replace(\"student\", \"Teacher\")"
   ]
  },
  {
   "cell_type": "code",
   "execution_count": 54,
   "id": "c4db8fbd",
   "metadata": {},
   "outputs": [
    {
     "data": {
      "text/plain": [
       "'420, Barfani Dham, Indore'"
      ]
     },
     "execution_count": 54,
     "metadata": {},
     "output_type": "execute_result"
    }
   ],
   "source": [
    "address = \"232, Barfani Dham, Indore\"\n",
    "address.replace(\"232\", \"420\")"
   ]
  },
  {
   "cell_type": "code",
   "execution_count": 55,
   "id": "e6ffcc55",
   "metadata": {},
   "outputs": [
    {
     "data": {
      "text/plain": [
       "'Be right Back, Talk to you lateral, Lots of Love'"
      ]
     },
     "execution_count": 55,
     "metadata": {},
     "output_type": "execute_result"
    }
   ],
   "source": [
    "text = \"BRB, TTYL, LOL\"\n",
    "text.replace(\"BRB\", \"Be right Back\").replace(\"TTYL\", \"Talk to you lateral\").replace(\"LOL\", \"Lots of Love\")"
   ]
  },
  {
   "cell_type": "code",
   "execution_count": 58,
   "id": "355ec514",
   "metadata": {},
   "outputs": [
    {
     "data": {
      "text/plain": [
       "'Hello, World'"
      ]
     },
     "execution_count": 58,
     "metadata": {},
     "output_type": "execute_result"
    }
   ],
   "source": [
    "text = \"Hello, World\"\n",
    "text"
   ]
  },
  {
   "cell_type": "code",
   "execution_count": 59,
   "id": "c6ab1fa6",
   "metadata": {},
   "outputs": [
    {
     "data": {
      "text/plain": [
       "'hello, world'"
      ]
     },
     "execution_count": 59,
     "metadata": {},
     "output_type": "execute_result"
    }
   ],
   "source": [
    "text.lower()"
   ]
  },
  {
   "cell_type": "code",
   "execution_count": 60,
   "id": "c0ba26db",
   "metadata": {},
   "outputs": [
    {
     "data": {
      "text/plain": [
       "'HELLO, WORLD'"
      ]
     },
     "execution_count": 60,
     "metadata": {},
     "output_type": "execute_result"
    }
   ],
   "source": [
    "text.upper()"
   ]
  },
  {
   "cell_type": "code",
   "execution_count": 61,
   "id": "9b32ae2f",
   "metadata": {},
   "outputs": [
    {
     "data": {
      "text/plain": [
       "'Hello, World'"
      ]
     },
     "execution_count": 61,
     "metadata": {},
     "output_type": "execute_result"
    }
   ],
   "source": [
    "text.title()"
   ]
  },
  {
   "cell_type": "code",
   "execution_count": 62,
   "id": "aafdce1b",
   "metadata": {},
   "outputs": [
    {
     "data": {
      "text/plain": [
       "'i AM iS a STUDENT'"
      ]
     },
     "execution_count": 62,
     "metadata": {},
     "output_type": "execute_result"
    }
   ],
   "source": [
    "text = \"I am Is A student\"  #swapcase swap the case of string\n",
    "text.swapcase()"
   ]
  },
  {
   "cell_type": "code",
   "execution_count": 64,
   "id": "a9024f01",
   "metadata": {},
   "outputs": [
    {
     "data": {
      "text/plain": [
       "'Hello world'"
      ]
     },
     "execution_count": 64,
     "metadata": {},
     "output_type": "execute_result"
    }
   ],
   "source": [
    "text = \"hello world\"  #capitalize the first letter of string\n",
    "text.capitalize()"
   ]
  },
  {
   "cell_type": "code",
   "execution_count": 65,
   "id": "2c3aecf0",
   "metadata": {},
   "outputs": [
    {
     "data": {
      "text/plain": [
       "True"
      ]
     },
     "execution_count": 65,
     "metadata": {},
     "output_type": "execute_result"
    }
   ],
   "source": [
    "#string searching\n",
    "senetence = \"I am a student in PWskills\"\n",
    "\"am\" in senetence"
   ]
  },
  {
   "cell_type": "code",
   "execution_count": 2,
   "id": "fb32f1e3",
   "metadata": {},
   "outputs": [
    {
     "name": "stdout",
     "output_type": "stream",
     "text": [
      "45\n"
     ]
    },
    {
     "data": {
      "text/plain": [
       "int"
      ]
     },
     "execution_count": 2,
     "metadata": {},
     "output_type": "execute_result"
    }
   ],
   "source": [
    "a = int('45')\n",
    "print(a)\n",
    "type(a)"
   ]
  },
  {
   "cell_type": "code",
   "execution_count": 3,
   "id": "373e559d",
   "metadata": {},
   "outputs": [
    {
     "name": "stdout",
     "output_type": "stream",
     "text": [
      "am is present\n"
     ]
    }
   ],
   "source": [
    "sentence = \"I am a student of PWskills\"\n",
    "search_word = \"am\"\n",
    "if search_word in sentence:\n",
    "    print(\"am is present\")\n",
    "else:\n",
    "    print(\"am is not present\")"
   ]
  },
  {
   "cell_type": "code",
   "execution_count": 6,
   "id": "6a44c2fc",
   "metadata": {},
   "outputs": [
    {
     "name": "stdout",
     "output_type": "stream",
     "text": [
      "Submited\n"
     ]
    }
   ],
   "source": [
    "email = \"abhisurya1421@gmail.com\"\n",
    "if \"@\" in email:\n",
    "    print(\"Submited\")\n",
    "else:\n",
    "    print(\"Invaild email\")"
   ]
  },
  {
   "cell_type": "code",
   "execution_count": 9,
   "id": "de70e954",
   "metadata": {},
   "outputs": [
    {
     "name": "stdout",
     "output_type": "stream",
     "text": [
      "its a pdf file\n"
     ]
    }
   ],
   "source": [
    "document = \"myfile.pdf\"\n",
    "if \".pdf\" in document:\n",
    "    print(\"its a pdf file\")\n",
    "else:\n",
    "    print(\"not a pdf file\")\n",
    "    "
   ]
  },
  {
   "cell_type": "code",
   "execution_count": 10,
   "id": "f6c80a38",
   "metadata": {},
   "outputs": [
    {
     "data": {
      "text/plain": [
       "False"
      ]
     },
     "execution_count": 10,
     "metadata": {},
     "output_type": "execute_result"
    }
   ],
   "source": [
    "#string comparison\n",
    "\n",
    "str1 = \"hello\"\n",
    "str2 = \"Hello\"\n",
    "\n",
    "str1 == str2"
   ]
  },
  {
   "cell_type": "code",
   "execution_count": 11,
   "id": "3dd6f6bb",
   "metadata": {},
   "outputs": [
    {
     "data": {
      "text/plain": [
       "True"
      ]
     },
     "execution_count": 11,
     "metadata": {},
     "output_type": "execute_result"
    }
   ],
   "source": [
    "str2.lower() == str1"
   ]
  },
  {
   "cell_type": "code",
   "execution_count": 14,
   "id": "ecc3071f",
   "metadata": {},
   "outputs": [
    {
     "name": "stdout",
     "output_type": "stream",
     "text": [
      "Registered successfully\n"
     ]
    }
   ],
   "source": [
    "register_user = [\"pw\", \"PW\", \"Pw\"]\n",
    "new_user = \"pW\"\n",
    "\n",
    "if new_user in register_user:\n",
    "    print(\"already user name\")\n",
    "else:\n",
    "    print(\"Registered successfully\")"
   ]
  },
  {
   "cell_type": "code",
   "execution_count": 18,
   "id": "b5a762c0",
   "metadata": {},
   "outputs": [
    {
     "name": "stdout",
     "output_type": "stream",
     "text": [
      "Scan the product code:P2024\n",
      "Code applied succesfully\n"
     ]
    }
   ],
   "source": [
    "product_code = \"P2024\"\n",
    "scanned_code = input(\"Scan the product code:\")\n",
    "\n",
    "if product_code == scanned_code:\n",
    "    print(\"Code applied succesfully\")\n",
    "else:\n",
    "    print(\"Invaild code\")"
   ]
  },
  {
   "cell_type": "code",
   "execution_count": 19,
   "id": "c7f13ca4",
   "metadata": {},
   "outputs": [],
   "source": [
    "#STRING ORDERING"
   ]
  },
  {
   "cell_type": "code",
   "execution_count": 21,
   "id": "8e8491dc",
   "metadata": {},
   "outputs": [
    {
     "data": {
      "text/plain": [
       "['Abhi', 'Bee', 'Chintu', 'bhumi']"
      ]
     },
     "execution_count": 21,
     "metadata": {},
     "output_type": "execute_result"
    }
   ],
   "source": [
    "name = [\"Abhi\", \"Chintu\", \"bhumi\", \"Bee\"]\n",
    "sorted(name)"
   ]
  },
  {
   "cell_type": "code",
   "execution_count": 23,
   "id": "aceb5e73",
   "metadata": {},
   "outputs": [
    {
     "data": {
      "text/plain": [
       "['Hello', 'KKch', 'Magic', 'Magic']"
      ]
     },
     "execution_count": 23,
     "metadata": {},
     "output_type": "execute_result"
    }
   ],
   "source": [
    "playlist = [\"Hello\", \"Magic\", \"KKch\", \"Magic\"]\n",
    "sorted(playlist)"
   ]
  },
  {
   "cell_type": "code",
   "execution_count": 24,
   "id": "d9dacc93",
   "metadata": {},
   "outputs": [
    {
     "data": {
      "text/plain": [
       "'Pwskills'"
      ]
     },
     "execution_count": 24,
     "metadata": {},
     "output_type": "execute_result"
    }
   ],
   "source": [
    "#common string operations\n",
    "\n",
    "input_str = \"     Pwskills   \"     #remove the whitespace\n",
    "input_str.strip()"
   ]
  },
  {
   "cell_type": "code",
   "execution_count": 25,
   "id": "ae071e73",
   "metadata": {},
   "outputs": [
    {
     "data": {
      "text/plain": [
       "'Apple'"
      ]
     },
     "execution_count": 25,
     "metadata": {},
     "output_type": "execute_result"
    }
   ],
   "source": [
    "csv_row = \"Apple      \"\n",
    "csv_row.strip()"
   ]
  },
  {
   "cell_type": "code",
   "execution_count": 34,
   "id": "29218661",
   "metadata": {},
   "outputs": [
    {
     "data": {
      "text/plain": [
       "'Python, Excel, PowerBI, SQL'"
      ]
     },
     "execution_count": 34,
     "metadata": {},
     "output_type": "execute_result"
    }
   ],
   "source": [
    "#string splitting\n",
    "data = \"Python, Excel, PowerBI, SQL\"\n",
    "data"
   ]
  },
  {
   "cell_type": "code",
   "execution_count": 43,
   "id": "bd108806",
   "metadata": {},
   "outputs": [
    {
     "name": "stdout",
     "output_type": "stream",
     "text": [
      "['Python', ' Excel', ' PowerBI', ' SQL']\n"
     ]
    }
   ],
   "source": [
    "technologies = data.split(\",\")\n",
    "print(technologies)\n"
   ]
  },
  {
   "cell_type": "code",
   "execution_count": 52,
   "id": "f6568458",
   "metadata": {},
   "outputs": [],
   "source": [
    "first_tech = technologies[0]\n",
    "second_tech = technologies[1]\n",
    "third_tech = technologies[2]\n",
    "fourth_tech = technologies[3]"
   ]
  },
  {
   "cell_type": "code",
   "execution_count": 54,
   "id": "67036151",
   "metadata": {},
   "outputs": [
    {
     "data": {
      "text/plain": [
       "'Python'"
      ]
     },
     "execution_count": 54,
     "metadata": {},
     "output_type": "execute_result"
    }
   ],
   "source": [
    "first_tech"
   ]
  },
  {
   "cell_type": "code",
   "execution_count": 58,
   "id": "60eeb432",
   "metadata": {},
   "outputs": [
    {
     "data": {
      "text/plain": [
       "'Excel'"
      ]
     },
     "execution_count": 58,
     "metadata": {},
     "output_type": "execute_result"
    }
   ],
   "source": [
    "second_tech.strip()"
   ]
  },
  {
   "cell_type": "code",
   "execution_count": 55,
   "id": "2a76ed7f",
   "metadata": {},
   "outputs": [
    {
     "data": {
      "text/plain": [
       "'PowerBI'"
      ]
     },
     "execution_count": 55,
     "metadata": {},
     "output_type": "execute_result"
    }
   ],
   "source": [
    "third_tech.strip()"
   ]
  },
  {
   "cell_type": "code",
   "execution_count": 56,
   "id": "3eb64e7f",
   "metadata": {},
   "outputs": [
    {
     "data": {
      "text/plain": [
       "'SQL'"
      ]
     },
     "execution_count": 56,
     "metadata": {},
     "output_type": "execute_result"
    }
   ],
   "source": [
    "fourth_tech.strip()"
   ]
  },
  {
   "cell_type": "code",
   "execution_count": 59,
   "id": "791b9515",
   "metadata": {},
   "outputs": [],
   "source": [
    "#Escape sequence - special combination of charactersnused within a strings\n",
    "\n",
    "address = \"\"\"343, Barfani dham\n",
    "             Vijay nagar\n",
    "             indore\"\"\""
   ]
  },
  {
   "cell_type": "code",
   "execution_count": 63,
   "id": "5081daff",
   "metadata": {},
   "outputs": [
    {
     "name": "stdout",
     "output_type": "stream",
     "text": [
      "343, Barfani dham Vijay nagar indore\n"
     ]
    }
   ],
   "source": [
    "print(address)"
   ]
  },
  {
   "cell_type": "code",
   "execution_count": 67,
   "id": "11df4843",
   "metadata": {},
   "outputs": [
    {
     "name": "stdout",
     "output_type": "stream",
     "text": [
      "343, Barfani dham \n",
      " Vijay nagar indore\n"
     ]
    }
   ],
   "source": [
    "new_address = \"\"\"343, Barfani dham \\n Vijay nagar indore\"\"\"   #\\n use for to inster new line character\n",
    "print(new_address)"
   ]
  },
  {
   "cell_type": "code",
   "execution_count": 70,
   "id": "37494fea",
   "metadata": {},
   "outputs": [
    {
     "name": "stdout",
     "output_type": "stream",
     "text": [
      "Name \tAge \tGrade \n",
      "Alice \t20 \tA \n",
      "Ram \t30 \tA+\n"
     ]
    }
   ],
   "source": [
    "table = \"Name \\tAge \\tGrade \\nAlice \\t20 \\tA \\nRam \\t30 \\tA+\"   #\\t escape is use for tab and \n",
    "print(table)"
   ]
  },
  {
   "cell_type": "code",
   "execution_count": 1,
   "id": "8d6539f7",
   "metadata": {},
   "outputs": [
    {
     "name": "stdout",
     "output_type": "stream",
     "text": [
      "c:\\Users\\download\\file.html\n"
     ]
    }
   ],
   "source": [
    "file_path = \"c:\\\\Users\\\\download\\\\file.html\"\n",
    "print(file_path)"
   ]
  },
  {
   "cell_type": "code",
   "execution_count": 3,
   "id": "5cca203d",
   "metadata": {},
   "outputs": [
    {
     "name": "stdout",
     "output_type": "stream",
     "text": [
      "I can't belive\n"
     ]
    }
   ],
   "source": [
    "#\\'  single quote escape\n",
    "str1 = 'I can\\'t belive'\n",
    "print(str1)"
   ]
  },
  {
   "cell_type": "code",
   "execution_count": 5,
   "id": "fac20b0d",
   "metadata": {},
   "outputs": [
    {
     "name": "stdout",
     "output_type": "stream",
     "text": [
      "Hello, \r",
      "I am abhijeet\n"
     ]
    }
   ],
   "source": [
    "#Carriage return \\r >> moves the cursor to the beginning of line\n",
    "\n",
    "print(\"Hello, \\rI am abhijeet\")"
   ]
  },
  {
   "cell_type": "code",
   "execution_count": 10,
   "id": "c5512c7d",
   "metadata": {},
   "outputs": [
    {
     "name": "stdout",
     "output_type": "stream",
     "text": [
      "hello Ram, how are you?\n"
     ]
    }
   ],
   "source": [
    "#strin formating  >> creating string with placeholder for variables\n",
    "username = \"Ram\"\n",
    "greeting = f\"hello {username}, how are you?\"\n",
    "print(greeting)"
   ]
  },
  {
   "cell_type": "code",
   "execution_count": 12,
   "id": "634533ad",
   "metadata": {},
   "outputs": [
    {
     "name": "stdout",
     "output_type": "stream",
     "text": [
      "Hello Abhijeet, wish you a wonderful day\n"
     ]
    }
   ],
   "source": [
    "#string formatting\n",
    "\n",
    "name = \"Abhijeet\"\n",
    "greeting = \"Hello %s, wish you a wonderful day\" %name\n",
    "print(greeting)"
   ]
  },
  {
   "cell_type": "code",
   "execution_count": 14,
   "id": "4cebbd09",
   "metadata": {},
   "outputs": [
    {
     "name": "stdout",
     "output_type": "stream",
     "text": [
      "Hello, Abhijeet Welcome to Dubai.\n"
     ]
    }
   ],
   "source": [
    "#.format\n",
    "template = \"Hello, {} Welcome to {}.\"\n",
    "greeting = template.format(\"Abhijeet\", \"Dubai\")\n",
    "print(greeting)"
   ]
  },
  {
   "cell_type": "code",
   "execution_count": 20,
   "id": "4ac85ff8",
   "metadata": {},
   "outputs": [
    {
     "data": {
      "text/plain": [
       "\"My course is Data Analytics, it's duration is 6 month\""
      ]
     },
     "execution_count": 20,
     "metadata": {},
     "output_type": "execute_result"
    }
   ],
   "source": [
    "#f string  (formatted string Literals)\n",
    "course = \"Data Analytics\"\n",
    "duration = \"6\"\n",
    "f\"My course is {course}, it's duration is {duration} month\""
   ]
  },
  {
   "cell_type": "code",
   "execution_count": 23,
   "id": "6b3ee490",
   "metadata": {},
   "outputs": [
    {
     "name": "stdout",
     "output_type": "stream",
     "text": [
      "hello Abhi, today is 2024-05-12\n"
     ]
    }
   ],
   "source": [
    "username = \"Abhi\"\n",
    "post_date = \"2024-05-12\"\n",
    "print(f\"hello {username}, today is {post_date}\")"
   ]
  },
  {
   "cell_type": "code",
   "execution_count": 28,
   "id": "8991ee46",
   "metadata": {},
   "outputs": [
    {
     "data": {
      "text/plain": [
       "'34 celsius is equal to 93.2 fehrenheit'"
      ]
     },
     "execution_count": 28,
     "metadata": {},
     "output_type": "execute_result"
    }
   ],
   "source": [
    "celsius = 34\n",
    "f\"{celsius} celsius is equal to {(celsius * 9/5) + 32} fehrenheit\""
   ]
  },
  {
   "cell_type": "code",
   "execution_count": 29,
   "id": "7055cb2d",
   "metadata": {},
   "outputs": [
    {
     "data": {
      "text/plain": [
       "True"
      ]
     },
     "execution_count": 29,
     "metadata": {},
     "output_type": "execute_result"
    }
   ],
   "source": [
    "str1 = \"PWskills\"\n",
    "str1.startswith(\"P\")"
   ]
  },
  {
   "cell_type": "code",
   "execution_count": 30,
   "id": "c04f91b4",
   "metadata": {},
   "outputs": [
    {
     "data": {
      "text/plain": [
       "True"
      ]
     },
     "execution_count": 30,
     "metadata": {},
     "output_type": "execute_result"
    }
   ],
   "source": [
    "str1.endswith('s')"
   ]
  },
  {
   "cell_type": "code",
   "execution_count": 33,
   "id": "29949cfc",
   "metadata": {},
   "outputs": [
    {
     "data": {
      "text/plain": [
       "True"
      ]
     },
     "execution_count": 33,
     "metadata": {},
     "output_type": "execute_result"
    }
   ],
   "source": [
    "a = \"abcd\"\n",
    "a.isalnum()"
   ]
  },
  {
   "cell_type": "code",
   "execution_count": 34,
   "id": "6bcf91c7",
   "metadata": {},
   "outputs": [
    {
     "data": {
      "text/plain": [
       "8"
      ]
     },
     "execution_count": 34,
     "metadata": {},
     "output_type": "execute_result"
    }
   ],
   "source": [
    "s = \"PWskills\"\n",
    "len(s)"
   ]
  },
  {
   "cell_type": "code",
   "execution_count": 9,
   "id": "5733041e",
   "metadata": {},
   "outputs": [
    {
     "name": "stdout",
     "output_type": "stream",
     "text": [
      "1\n",
      "2\n",
      "3\n",
      "4\n",
      "5\n",
      "6\n",
      "number of alphabates  6\n"
     ]
    }
   ],
   "source": [
    "count = 0\n",
    "for i in s:\n",
    "    print(i)\n",
    "    count = count+1\n",
    "print(\"number of alphabates \", count)    "
   ]
  },
  {
   "cell_type": "code",
   "execution_count": 16,
   "id": "40497286",
   "metadata": {},
   "outputs": [
    {
     "name": "stdout",
     "output_type": "stream",
     "text": [
      "0 H\n",
      "1 e\n",
      "2 l\n",
      "3 l\n",
      "4 o\n"
     ]
    }
   ],
   "source": [
    "l = \"Hello\"\n",
    "for ch in range(len(l)):\n",
    "    print(ch, l[ch])\n"
   ]
  },
  {
   "cell_type": "code",
   "execution_count": null,
   "id": "08e0e3b2",
   "metadata": {},
   "outputs": [],
   "source": []
  },
  {
   "cell_type": "code",
   "execution_count": null,
   "id": "78eab691",
   "metadata": {},
   "outputs": [],
   "source": []
  }
 ],
 "metadata": {
  "kernelspec": {
   "display_name": "Python 3 (ipykernel)",
   "language": "python",
   "name": "python3"
  },
  "language_info": {
   "codemirror_mode": {
    "name": "ipython",
    "version": 3
   },
   "file_extension": ".py",
   "mimetype": "text/x-python",
   "name": "python",
   "nbconvert_exporter": "python",
   "pygments_lexer": "ipython3",
   "version": "3.11.7"
  }
 },
 "nbformat": 4,
 "nbformat_minor": 5
}
