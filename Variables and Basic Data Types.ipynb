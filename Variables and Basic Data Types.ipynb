{
 "cells": [
  {
   "cell_type": "code",
   "execution_count": 1,
   "id": "fb2b6563",
   "metadata": {},
   "outputs": [
    {
     "name": "stdout",
     "output_type": "stream",
     "text": [
      "23\n"
     ]
    }
   ],
   "source": [
    "#variables \n",
    "a = 23\n",
    "print(a)"
   ]
  },
  {
   "cell_type": "code",
   "execution_count": 2,
   "id": "e4826888",
   "metadata": {},
   "outputs": [
    {
     "name": "stdout",
     "output_type": "stream",
     "text": [
      "21\n",
      "<class 'int'>\n",
      "23.2\n",
      "<class 'float'>\n",
      "(1+3j)\n",
      "<class 'complex'>\n"
     ]
    }
   ],
   "source": [
    "a = 21 #int \n",
    "b = 23.2 #float\n",
    "c = 1+3j #complex\n",
    "print(a)\n",
    "print(type(a))\n",
    "print(b)\n",
    "print(type(b))\n",
    "print(c)\n",
    "print(type(c))"
   ]
  },
  {
   "cell_type": "code",
   "execution_count": 3,
   "id": "2682b563",
   "metadata": {},
   "outputs": [
    {
     "name": "stdout",
     "output_type": "stream",
     "text": [
      "Abhijeet\n",
      "<class 'str'>\n"
     ]
    }
   ],
   "source": [
    "str = \"Abhijeet\" #string\n",
    "print(str)\n",
    "print(type(str))"
   ]
  },
  {
   "cell_type": "code",
   "execution_count": 4,
   "id": "e836f201",
   "metadata": {},
   "outputs": [
    {
     "name": "stdout",
     "output_type": "stream",
     "text": [
      "True\n",
      "<class 'bool'>\n"
     ]
    }
   ],
   "source": [
    "b = True #Boolean\n",
    "print(b)\n",
    "print(type(b))"
   ]
  },
  {
   "cell_type": "code",
   "execution_count": null,
   "id": "2b7d48aa",
   "metadata": {},
   "outputs": [],
   "source": []
  }
 ],
 "metadata": {
  "kernelspec": {
   "display_name": "Python 3 (ipykernel)",
   "language": "python",
   "name": "python3"
  },
  "language_info": {
   "codemirror_mode": {
    "name": "ipython",
    "version": 3
   },
   "file_extension": ".py",
   "mimetype": "text/x-python",
   "name": "python",
   "nbconvert_exporter": "python",
   "pygments_lexer": "ipython3",
   "version": "3.11.7"
  }
 },
 "nbformat": 4,
 "nbformat_minor": 5
}
