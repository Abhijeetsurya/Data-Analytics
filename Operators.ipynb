{
 "cells": [
  {
   "cell_type": "markdown",
   "id": "9ade0762",
   "metadata": {},
   "source": [
    "# Arithmetic operators"
   ]
  },
  {
   "cell_type": "code",
   "execution_count": 1,
   "id": "dc0aaa7c",
   "metadata": {},
   "outputs": [
    {
     "name": "stdout",
     "output_type": "stream",
     "text": [
      "6\n"
     ]
    }
   ],
   "source": [
    "# Addition\n",
    "print(2+4)"
   ]
  },
  {
   "cell_type": "code",
   "execution_count": 2,
   "id": "82e6f36c",
   "metadata": {},
   "outputs": [
    {
     "name": "stdout",
     "output_type": "stream",
     "text": [
      "1\n"
     ]
    }
   ],
   "source": [
    "#substraction\n",
    "print(5-4)"
   ]
  },
  {
   "cell_type": "code",
   "execution_count": 3,
   "id": "080afc58",
   "metadata": {},
   "outputs": [
    {
     "name": "stdout",
     "output_type": "stream",
     "text": [
      "8\n"
     ]
    }
   ],
   "source": [
    "#Multiplication\n",
    "print(4*2)"
   ]
  },
  {
   "cell_type": "code",
   "execution_count": 4,
   "id": "9dbf9b77",
   "metadata": {},
   "outputs": [
    {
     "name": "stdout",
     "output_type": "stream",
     "text": [
      "5.0\n"
     ]
    }
   ],
   "source": [
    "#Division\n",
    "print(10/2)"
   ]
  },
  {
   "cell_type": "code",
   "execution_count": 5,
   "id": "8f650ccd",
   "metadata": {},
   "outputs": [
    {
     "name": "stdout",
     "output_type": "stream",
     "text": [
      "1\n"
     ]
    }
   ],
   "source": [
    "#Modulus operator\n",
    "print(13%2)"
   ]
  },
  {
   "cell_type": "code",
   "execution_count": 6,
   "id": "c057ebf1",
   "metadata": {},
   "outputs": [
    {
     "name": "stdout",
     "output_type": "stream",
     "text": [
      "25\n"
     ]
    }
   ],
   "source": [
    "#Exponentiation\n",
    "print(5**2)"
   ]
  },
  {
   "cell_type": "code",
   "execution_count": 7,
   "id": "351abd08",
   "metadata": {},
   "outputs": [
    {
     "name": "stdout",
     "output_type": "stream",
     "text": [
      "11\n"
     ]
    }
   ],
   "source": [
    "#floor division\n",
    "print(23//2)"
   ]
  },
  {
   "cell_type": "markdown",
   "id": "78b3c501",
   "metadata": {},
   "source": [
    "# Assignment operators"
   ]
  },
  {
   "cell_type": "code",
   "execution_count": 10,
   "id": "4d0424be",
   "metadata": {},
   "outputs": [
    {
     "name": "stdout",
     "output_type": "stream",
     "text": [
      "27\n"
     ]
    }
   ],
   "source": [
    "#Addition assignment operator\n",
    "a = 23\n",
    "a += 4\n",
    "print(a)"
   ]
  },
  {
   "cell_type": "code",
   "execution_count": 11,
   "id": "72c6f117",
   "metadata": {},
   "outputs": [
    {
     "name": "stdout",
     "output_type": "stream",
     "text": [
      "10\n"
     ]
    }
   ],
   "source": [
    "#Substraction assignment operator\n",
    "a = 12\n",
    "a -= 2\n",
    "print(a)"
   ]
  },
  {
   "cell_type": "code",
   "execution_count": 12,
   "id": "0d4d3ea2",
   "metadata": {},
   "outputs": [
    {
     "name": "stdout",
     "output_type": "stream",
     "text": [
      "40\n"
     ]
    }
   ],
   "source": [
    "#Multiplication assigment operator\n",
    "a = 20\n",
    "a *= 2\n",
    "print(a)"
   ]
  },
  {
   "cell_type": "code",
   "execution_count": 13,
   "id": "02d54f46",
   "metadata": {},
   "outputs": [
    {
     "name": "stdout",
     "output_type": "stream",
     "text": [
      "22.0\n"
     ]
    }
   ],
   "source": [
    "#Division assignment operator\n",
    "a = 44\n",
    "a /= 2\n",
    "print(a)"
   ]
  },
  {
   "cell_type": "code",
   "execution_count": 15,
   "id": "e5900bdc",
   "metadata": {},
   "outputs": [
    {
     "name": "stdout",
     "output_type": "stream",
     "text": [
      "2\n"
     ]
    }
   ],
   "source": [
    "#Modulus assignment operator\n",
    "a = 47\n",
    "a %= 5\n",
    "print(a)"
   ]
  },
  {
   "cell_type": "code",
   "execution_count": 16,
   "id": "cd8b54f0",
   "metadata": {},
   "outputs": [
    {
     "name": "stdout",
     "output_type": "stream",
     "text": [
      "11\n"
     ]
    }
   ],
   "source": [
    "#floor division assigment operator\n",
    "a = 89\n",
    "a//=8\n",
    "print(a)"
   ]
  },
  {
   "cell_type": "code",
   "execution_count": 17,
   "id": "35d57c0e",
   "metadata": {},
   "outputs": [
    {
     "name": "stdout",
     "output_type": "stream",
     "text": [
      "64\n"
     ]
    }
   ],
   "source": [
    "#Exponentiation assignment operator\n",
    "a = 8\n",
    "a**=2\n",
    "print(a)"
   ]
  },
  {
   "cell_type": "code",
   "execution_count": 18,
   "id": "7c01596e",
   "metadata": {},
   "outputs": [
    {
     "name": "stdout",
     "output_type": "stream",
     "text": [
      "0\n"
     ]
    }
   ],
   "source": [
    "#biwise AND assignment operator \n",
    "a = 1\n",
    "a&=2\n",
    "print(a)"
   ]
  },
  {
   "cell_type": "markdown",
   "id": "f969ad82",
   "metadata": {},
   "source": [
    "# Comparison operator"
   ]
  },
  {
   "cell_type": "code",
   "execution_count": 19,
   "id": "94992f52",
   "metadata": {},
   "outputs": [],
   "source": [
    "#Equal Operator(==)"
   ]
  },
  {
   "cell_type": "code",
   "execution_count": 22,
   "id": "28866330",
   "metadata": {},
   "outputs": [
    {
     "name": "stdout",
     "output_type": "stream",
     "text": [
      "True\n",
      "False\n",
      "False\n"
     ]
    }
   ],
   "source": [
    "a = 78\n",
    "b = 78\n",
    "c = 90\n",
    "\n",
    "print(a==b)\n",
    "\n",
    "print(a==c)\n",
    "\n",
    "print(b==c)"
   ]
  },
  {
   "cell_type": "code",
   "execution_count": 25,
   "id": "f5ca5584",
   "metadata": {},
   "outputs": [
    {
     "name": "stdout",
     "output_type": "stream",
     "text": [
      "False\n",
      "True\n",
      "True\n"
     ]
    }
   ],
   "source": [
    "#Not Equal to (!=)\n",
    "a = 78\n",
    "b = 78\n",
    "c = 90\n",
    "\n",
    "print(a!=b)\n",
    "\n",
    "print(a!=c)\n",
    "\n",
    "print(b!=c)"
   ]
  },
  {
   "cell_type": "code",
   "execution_count": 26,
   "id": "e456d201",
   "metadata": {},
   "outputs": [
    {
     "name": "stdout",
     "output_type": "stream",
     "text": [
      "False\n",
      "True\n"
     ]
    }
   ],
   "source": [
    "#Greater than (>)\n",
    "a = 45\n",
    "b = 67\n",
    "c = 90\n",
    "print(a > b)\n",
    "print(c > b)"
   ]
  },
  {
   "cell_type": "code",
   "execution_count": 27,
   "id": "f98f6465",
   "metadata": {},
   "outputs": [
    {
     "name": "stdout",
     "output_type": "stream",
     "text": [
      "True\n",
      "False\n"
     ]
    }
   ],
   "source": [
    "#Less than (<)\n",
    "a = 45\n",
    "b = 67\n",
    "c = 90\n",
    "print(a < b)\n",
    "print(c < b)"
   ]
  },
  {
   "cell_type": "code",
   "execution_count": 29,
   "id": "e06b671a",
   "metadata": {},
   "outputs": [
    {
     "name": "stdout",
     "output_type": "stream",
     "text": [
      "False\n",
      "True\n",
      "True\n",
      "True\n"
     ]
    }
   ],
   "source": [
    "#Greater than equal (>=)\n",
    "a = 34\n",
    "b = 56\n",
    "c = 34\n",
    "print(a >= b)\n",
    "print(a >= c)\n",
    "print(b >= a)\n",
    "print(b >= c)"
   ]
  },
  {
   "cell_type": "code",
   "execution_count": 31,
   "id": "0c53bca7",
   "metadata": {},
   "outputs": [
    {
     "name": "stdout",
     "output_type": "stream",
     "text": [
      "True\n",
      "True\n",
      "False\n",
      "True\n"
     ]
    }
   ],
   "source": [
    "#Less than equal to (<=)\n",
    "a = 34\n",
    "b = 56\n",
    "c = 34\n",
    "print(a <= b)\n",
    "print(a <= c)\n",
    "print(b <= a)\n",
    "print(c <= b)"
   ]
  },
  {
   "cell_type": "markdown",
   "id": "3e13c1f1",
   "metadata": {},
   "source": [
    "# Logical Operators"
   ]
  },
  {
   "cell_type": "code",
   "execution_count": 34,
   "id": "01d18fa9",
   "metadata": {},
   "outputs": [
    {
     "name": "stdout",
     "output_type": "stream",
     "text": [
      "both are not less than 10\n"
     ]
    }
   ],
   "source": [
    "#AND operator - if both condition is true\n",
    "a = 5\n",
    "b = 10\n",
    "if a < 10 and b < 10:\n",
    "    print(\"both are less than 10\")\n",
    "else:\n",
    "    print(\"both are not less than 10\")"
   ]
  },
  {
   "cell_type": "code",
   "execution_count": 37,
   "id": "d5c18e31",
   "metadata": {},
   "outputs": [
    {
     "name": "stdout",
     "output_type": "stream",
     "text": [
      "You cannot live together\n"
     ]
    }
   ],
   "source": [
    "Boy = 20\n",
    "Girl = 19\n",
    "if Boy >= 21 and Girl >= 18:\n",
    "    print('You can live together')\n",
    "else:\n",
    "    print('You cannot live together')"
   ]
  },
  {
   "cell_type": "code",
   "execution_count": 1,
   "id": "b223dee0",
   "metadata": {},
   "outputs": [
    {
     "name": "stdout",
     "output_type": "stream",
     "text": [
      "both is odd number\n"
     ]
    }
   ],
   "source": [
    "#OR operator - if any one condition is true it will true\n",
    "if 23%2==0 or 27%2==0:\n",
    "    print(\"any one is even number\")\n",
    "else:\n",
    "    print(\"both is odd number\")\n",
    "    "
   ]
  },
  {
   "cell_type": "code",
   "execution_count": 15,
   "id": "016a260b",
   "metadata": {},
   "outputs": [
    {
     "name": "stdout",
     "output_type": "stream",
     "text": [
      "False\n",
      "True\n"
     ]
    }
   ],
   "source": [
    "#NOT operator - reverse the result\n",
    "a = 5\n",
    "b = 7\n",
    "c = not(a < 6)\n",
    "print(c)\n",
    "\n",
    "d = not(b > 9)\n",
    "print(d)"
   ]
  },
  {
   "cell_type": "markdown",
   "id": "63b0c55d",
   "metadata": {},
   "source": [
    "# Identity Operator"
   ]
  },
  {
   "cell_type": "code",
   "execution_count": 17,
   "id": "cb3b0ec6",
   "metadata": {},
   "outputs": [
    {
     "name": "stdout",
     "output_type": "stream",
     "text": [
      "True\n",
      "False\n"
     ]
    }
   ],
   "source": [
    "# is operator\n",
    "a = 23\n",
    "b = 23 \n",
    "c =78\n",
    "print( a is b)\n",
    "print(a is c)"
   ]
  },
  {
   "cell_type": "code",
   "execution_count": 20,
   "id": "6cf8de49",
   "metadata": {},
   "outputs": [
    {
     "name": "stdout",
     "output_type": "stream",
     "text": [
      "False\n",
      "True\n"
     ]
    }
   ],
   "source": [
    "# is not operator\n",
    "a = 23\n",
    "b = 23\n",
    "c = 78\n",
    "print(a is not b)\n",
    "print(a is not c)"
   ]
  },
  {
   "cell_type": "code",
   "execution_count": null,
   "id": "61aeee17",
   "metadata": {},
   "outputs": [],
   "source": []
  }
 ],
 "metadata": {
  "kernelspec": {
   "display_name": "Python 3 (ipykernel)",
   "language": "python",
   "name": "python3"
  },
  "language_info": {
   "codemirror_mode": {
    "name": "ipython",
    "version": 3
   },
   "file_extension": ".py",
   "mimetype": "text/x-python",
   "name": "python",
   "nbconvert_exporter": "python",
   "pygments_lexer": "ipython3",
   "version": "3.11.7"
  }
 },
 "nbformat": 4,
 "nbformat_minor": 5
}
