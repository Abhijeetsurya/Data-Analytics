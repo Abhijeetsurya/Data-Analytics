{
 "cells": [
  {
   "cell_type": "markdown",
   "id": "44f7e02e",
   "metadata": {},
   "source": [
    "# Tuple - Tuple are ordered collection of elemnts, heterogenous"
   ]
  },
  {
   "cell_type": "code",
   "execution_count": 1,
   "id": "3559e2e4",
   "metadata": {},
   "outputs": [
    {
     "data": {
      "text/plain": [
       "('Apple', 'Banana', 'Mango')"
      ]
     },
     "execution_count": 1,
     "metadata": {},
     "output_type": "execute_result"
    }
   ],
   "source": [
    "#Tuple are ordered collection of elemnts, heterogenous\n",
    "# tuple are immutable\n",
    "\n",
    "t = (\"Apple\", \"Banana\", \"Mango\")\n",
    "t"
   ]
  },
  {
   "cell_type": "code",
   "execution_count": 2,
   "id": "588764e8",
   "metadata": {},
   "outputs": [
    {
     "data": {
      "text/plain": [
       "tuple"
      ]
     },
     "execution_count": 2,
     "metadata": {},
     "output_type": "execute_result"
    }
   ],
   "source": [
    "type(t)"
   ]
  },
  {
   "cell_type": "code",
   "execution_count": 3,
   "id": "06428874",
   "metadata": {},
   "outputs": [
    {
     "data": {
      "text/plain": [
       "3"
      ]
     },
     "execution_count": 3,
     "metadata": {},
     "output_type": "execute_result"
    }
   ],
   "source": [
    "len(t)"
   ]
  },
  {
   "cell_type": "code",
   "execution_count": 4,
   "id": "f2eb5d8e",
   "metadata": {},
   "outputs": [
    {
     "data": {
      "text/plain": [
       "'Apple'"
      ]
     },
     "execution_count": 4,
     "metadata": {},
     "output_type": "execute_result"
    }
   ],
   "source": [
    "#Access elemnt using index \n",
    "t[0]"
   ]
  },
  {
   "cell_type": "code",
   "execution_count": 6,
   "id": "49b942c8",
   "metadata": {},
   "outputs": [],
   "source": [
    "# tuple are immutable\n",
    "# t[0] = \"Cherry\"   - we cannot change element of tuple"
   ]
  },
  {
   "cell_type": "code",
   "execution_count": 9,
   "id": "d824d74b",
   "metadata": {},
   "outputs": [
    {
     "data": {
      "text/plain": [
       "3"
      ]
     },
     "execution_count": 9,
     "metadata": {},
     "output_type": "execute_result"
    }
   ],
   "source": [
    "#count - return how many times is present in given element in tuple\n",
    "t = (1, 1, 2, 3, 4, 1,  5, 6)\n",
    "t.count(1)"
   ]
  },
  {
   "cell_type": "code",
   "execution_count": 10,
   "id": "ac002f0a",
   "metadata": {},
   "outputs": [
    {
     "data": {
      "text/plain": [
       "3"
      ]
     },
     "execution_count": 10,
     "metadata": {},
     "output_type": "execute_result"
    }
   ],
   "source": [
    "# find the index of element\n",
    "t.index(3)"
   ]
  },
  {
   "cell_type": "code",
   "execution_count": 11,
   "id": "161ca4ad",
   "metadata": {},
   "outputs": [
    {
     "data": {
      "text/plain": [
       "1"
      ]
     },
     "execution_count": 11,
     "metadata": {},
     "output_type": "execute_result"
    }
   ],
   "source": [
    "#find index of element\n",
    "car = (\"Nexon EV\", \"TATA NANO EV\", \"MG EV\")\n",
    "car.index(\"TATA NANO EV\")  # it will return the index number of given element"
   ]
  },
  {
   "cell_type": "code",
   "execution_count": 13,
   "id": "1efeb38d",
   "metadata": {},
   "outputs": [
    {
     "name": "stdout",
     "output_type": "stream",
     "text": [
      "('Nexon EV', 'TATA NANO EV', 'MG EV', 'Nexon EV', 'TATA NANO EV', 'MG EV')\n"
     ]
    }
   ],
   "source": [
    "print(car*2) #repeat tuples "
   ]
  },
  {
   "cell_type": "code",
   "execution_count": 14,
   "id": "087c5917",
   "metadata": {},
   "outputs": [
    {
     "data": {
      "text/plain": [
       "'MG EV'"
      ]
     },
     "execution_count": 14,
     "metadata": {},
     "output_type": "execute_result"
    }
   ],
   "source": [
    "#Access tuple element using index number\n",
    "car[2]"
   ]
  },
  {
   "cell_type": "code",
   "execution_count": 15,
   "id": "cc3344ff",
   "metadata": {},
   "outputs": [
    {
     "data": {
      "text/plain": [
       "('TATA NANO EV', 'MG EV')"
      ]
     },
     "execution_count": 15,
     "metadata": {},
     "output_type": "execute_result"
    }
   ],
   "source": [
    "#Range indexing\n",
    "car[1:3]"
   ]
  },
  {
   "cell_type": "code",
   "execution_count": 32,
   "id": "f0f73e53",
   "metadata": {},
   "outputs": [
    {
     "data": {
      "text/plain": [
       "('Nexon EV', 'TATA NANO EV')"
      ]
     },
     "execution_count": 32,
     "metadata": {},
     "output_type": "execute_result"
    }
   ],
   "source": [
    "#Negative range indexing\n",
    "car[-4:-1]"
   ]
  },
  {
   "cell_type": "code",
   "execution_count": 16,
   "id": "db9fa60d",
   "metadata": {},
   "outputs": [
    {
     "data": {
      "text/plain": [
       "('MG EV', 'TATA NANO EV', 'Nexon EV')"
      ]
     },
     "execution_count": 16,
     "metadata": {},
     "output_type": "execute_result"
    }
   ],
   "source": [
    "#reverse the tuple\n",
    "car[::-1]"
   ]
  },
  {
   "cell_type": "code",
   "execution_count": 17,
   "id": "a7d571e4",
   "metadata": {},
   "outputs": [
    {
     "data": {
      "text/plain": [
       "'MG EV'"
      ]
     },
     "execution_count": 17,
     "metadata": {},
     "output_type": "execute_result"
    }
   ],
   "source": [
    "#Negative indexing\n",
    "car[-1]"
   ]
  },
  {
   "cell_type": "code",
   "execution_count": 21,
   "id": "343d7d77",
   "metadata": {},
   "outputs": [
    {
     "name": "stdout",
     "output_type": "stream",
     "text": [
      "Nexon EV <class 'str'>\n",
      "TATA NANO EV <class 'str'>\n",
      "MG EV <class 'str'>\n"
     ]
    }
   ],
   "source": [
    "for c in car:\n",
    "    print(c, type(c))"
   ]
  },
  {
   "cell_type": "code",
   "execution_count": 22,
   "id": "3465d53a",
   "metadata": {},
   "outputs": [
    {
     "data": {
      "text/plain": [
       "56"
      ]
     },
     "execution_count": 22,
     "metadata": {},
     "output_type": "execute_result"
    }
   ],
   "source": [
    "t1 = (1, 34, 12, 56)\n",
    "max(t1) #return maximum value "
   ]
  },
  {
   "cell_type": "code",
   "execution_count": 24,
   "id": "6e89a7e4",
   "metadata": {},
   "outputs": [
    {
     "data": {
      "text/plain": [
       "1"
      ]
     },
     "execution_count": 24,
     "metadata": {},
     "output_type": "execute_result"
    }
   ],
   "source": [
    "min(t1) #return minimum value"
   ]
  },
  {
   "cell_type": "code",
   "execution_count": 25,
   "id": "fc8dcc6f",
   "metadata": {},
   "outputs": [],
   "source": [
    "t2 = (2, 4, 6)\n",
    "t3 = t1+t2  #concat two tuple"
   ]
  },
  {
   "cell_type": "code",
   "execution_count": 26,
   "id": "52daac2b",
   "metadata": {},
   "outputs": [
    {
     "data": {
      "text/plain": [
       "(1, 34, 12, 56, 2, 4, 6)"
      ]
     },
     "execution_count": 26,
     "metadata": {},
     "output_type": "execute_result"
    }
   ],
   "source": [
    "t3  "
   ]
  },
  {
   "cell_type": "code",
   "execution_count": 27,
   "id": "704e6986",
   "metadata": {},
   "outputs": [],
   "source": [
    "del t3"
   ]
  },
  {
   "cell_type": "code",
   "execution_count": 28,
   "id": "ee5818d4",
   "metadata": {},
   "outputs": [
    {
     "data": {
      "text/plain": [
       "4"
      ]
     },
     "execution_count": 28,
     "metadata": {},
     "output_type": "execute_result"
    }
   ],
   "source": [
    "#length of tuple\n",
    "len(t1)"
   ]
  },
  {
   "cell_type": "code",
   "execution_count": 29,
   "id": "073c5ae0",
   "metadata": {},
   "outputs": [
    {
     "data": {
      "text/plain": [
       "True"
      ]
     },
     "execution_count": 29,
     "metadata": {},
     "output_type": "execute_result"
    }
   ],
   "source": [
    "#check if value is present or not\n",
    "1 in t1"
   ]
  },
  {
   "cell_type": "code",
   "execution_count": 30,
   "id": "b950e901",
   "metadata": {},
   "outputs": [
    {
     "data": {
      "text/plain": [
       "True"
      ]
     },
     "execution_count": 30,
     "metadata": {},
     "output_type": "execute_result"
    }
   ],
   "source": [
    "4 in t2"
   ]
  },
  {
   "cell_type": "code",
   "execution_count": 31,
   "id": "bc2d4f82",
   "metadata": {},
   "outputs": [
    {
     "data": {
      "text/plain": [
       "False"
      ]
     },
     "execution_count": 31,
     "metadata": {},
     "output_type": "execute_result"
    }
   ],
   "source": [
    "4 not in t2"
   ]
  },
  {
   "cell_type": "markdown",
   "id": "019ff366",
   "metadata": {},
   "source": [
    "# Sets >> Sets are collection of unique and unordered element"
   ]
  },
  {
   "cell_type": "code",
   "execution_count": 1,
   "id": "15945804",
   "metadata": {},
   "outputs": [],
   "source": [
    "# dont allow duplicate element >> not maintain any ordered and it will not be indexded"
   ]
  },
  {
   "cell_type": "code",
   "execution_count": 4,
   "id": "cb832937",
   "metadata": {},
   "outputs": [
    {
     "data": {
      "text/plain": [
       "{2, 4, 6, 8}"
      ]
     },
     "execution_count": 4,
     "metadata": {},
     "output_type": "execute_result"
    }
   ],
   "source": [
    "s = {2, 4, 6, 8, 2, 4}\n",
    "s"
   ]
  },
  {
   "cell_type": "code",
   "execution_count": 3,
   "id": "72d6c6dc",
   "metadata": {},
   "outputs": [
    {
     "data": {
      "text/plain": [
       "set"
      ]
     },
     "execution_count": 3,
     "metadata": {},
     "output_type": "execute_result"
    }
   ],
   "source": [
    "type(s)"
   ]
  },
  {
   "cell_type": "code",
   "execution_count": 5,
   "id": "c56ed2f4",
   "metadata": {},
   "outputs": [
    {
     "data": {
      "text/plain": [
       "{1, 2, 3, 4, 24}"
      ]
     },
     "execution_count": 5,
     "metadata": {},
     "output_type": "execute_result"
    }
   ],
   "source": [
    "l = [1, 2, 3, 4, 24, 1, 2]\n",
    "s = set(l)\n",
    "s"
   ]
  },
  {
   "cell_type": "code",
   "execution_count": 7,
   "id": "ccc9c875",
   "metadata": {},
   "outputs": [],
   "source": [
    "#s[0] - index is not present in set"
   ]
  },
  {
   "cell_type": "code",
   "execution_count": 9,
   "id": "da9726b7",
   "metadata": {},
   "outputs": [],
   "source": [
    "# {1, 2, 3,4 [1, 2, 3, 4]}  - we cannot add list in sets because list is mutable and set is immutable"
   ]
  },
  {
   "cell_type": "code",
   "execution_count": 10,
   "id": "0a16ec5a",
   "metadata": {},
   "outputs": [
    {
     "data": {
      "text/plain": [
       "{(1, 2, 3), 1, 2, 4}"
      ]
     },
     "execution_count": 10,
     "metadata": {},
     "output_type": "execute_result"
    }
   ],
   "source": [
    "s = {1, 2, 4, (1, 2, 3)}   #  we can add tuple in set because tuple and set both are immutable "
   ]
  },
  {
   "cell_type": "code",
   "execution_count": 12,
   "id": "e04d7aa4",
   "metadata": {},
   "outputs": [],
   "source": [
    "# s[::-1]"
   ]
  },
  {
   "cell_type": "code",
   "execution_count": 14,
   "id": "c895a043",
   "metadata": {},
   "outputs": [
    {
     "name": "stdout",
     "output_type": "stream",
     "text": [
      "1\n",
      "2\n",
      "(1, 2, 3)\n",
      "4\n"
     ]
    }
   ],
   "source": [
    "s1 = {1, 2, 4, (1, 2, 3)}\n",
    "for i in s1:\n",
    "    print(i)"
   ]
  },
  {
   "cell_type": "code",
   "execution_count": 16,
   "id": "e73e1280",
   "metadata": {},
   "outputs": [
    {
     "data": {
      "text/plain": [
       "{(1, 2, 3), 1, 2, 24, 4}"
      ]
     },
     "execution_count": 16,
     "metadata": {},
     "output_type": "execute_result"
    }
   ],
   "source": [
    "s1.add(24)\n",
    "s1"
   ]
  },
  {
   "cell_type": "code",
   "execution_count": 17,
   "id": "ef23d4c6",
   "metadata": {},
   "outputs": [],
   "source": [
    "#update() - use to add two sets\n",
    "s = {2, 3, 4, 5}\n",
    "s1 = {1, 6, 7, 8}\n",
    "s.update(s1)   # Use update method to add one set to another set"
   ]
  },
  {
   "cell_type": "code",
   "execution_count": 30,
   "id": "714624b9",
   "metadata": {},
   "outputs": [
    {
     "data": {
      "text/plain": [
       "{'Banana', 'Mango', 's'}"
      ]
     },
     "execution_count": 30,
     "metadata": {},
     "output_type": "execute_result"
    }
   ],
   "source": [
    "s = {\"Mango\", \"Banana\"}\n",
    "s.update(\"s\")\n",
    "s"
   ]
  },
  {
   "cell_type": "code",
   "execution_count": 18,
   "id": "aa3a1b63",
   "metadata": {},
   "outputs": [
    {
     "data": {
      "text/plain": [
       "{1, 2, 3, 4, 5, 6, 7, 8}"
      ]
     },
     "execution_count": 18,
     "metadata": {},
     "output_type": "execute_result"
    }
   ],
   "source": [
    "s"
   ]
  },
  {
   "cell_type": "code",
   "execution_count": 19,
   "id": "0987b2ca",
   "metadata": {},
   "outputs": [
    {
     "data": {
      "text/plain": [
       "1"
      ]
     },
     "execution_count": 19,
     "metadata": {},
     "output_type": "execute_result"
    }
   ],
   "source": [
    "s.pop() # remove element of set randomly"
   ]
  },
  {
   "cell_type": "code",
   "execution_count": 24,
   "id": "18de2eb5",
   "metadata": {},
   "outputs": [],
   "source": [
    "# remove use to remove perticular item \n",
    "s = {\"Apple\",  \"Banana\", \"Mango\", \"Lichi\", \"Patato\"}\n",
    "s.remove(\"Patato\")"
   ]
  },
  {
   "cell_type": "code",
   "execution_count": 25,
   "id": "1ebedf6d",
   "metadata": {},
   "outputs": [
    {
     "data": {
      "text/plain": [
       "{'Apple', 'Banana', 'Lichi', 'Mango'}"
      ]
     },
     "execution_count": 25,
     "metadata": {},
     "output_type": "execute_result"
    }
   ],
   "source": [
    "s"
   ]
  },
  {
   "cell_type": "code",
   "execution_count": 32,
   "id": "8103f503",
   "metadata": {},
   "outputs": [
    {
     "data": {
      "text/plain": [
       "set()"
      ]
     },
     "execution_count": 32,
     "metadata": {},
     "output_type": "execute_result"
    }
   ],
   "source": [
    "s = {1, 2, 3, 4}\n",
    "s.clear()\n",
    "s"
   ]
  },
  {
   "cell_type": "code",
   "execution_count": 34,
   "id": "78905e95",
   "metadata": {},
   "outputs": [
    {
     "data": {
      "text/plain": [
       "{1, 2, 45}"
      ]
     },
     "execution_count": 34,
     "metadata": {},
     "output_type": "execute_result"
    }
   ],
   "source": [
    "#discard - it will remove if element is present and not will through error but in remove through error\n",
    "\n",
    "s = {1, 2, 45, 2}\n",
    "s.discard(24)\n",
    "s"
   ]
  },
  {
   "cell_type": "code",
   "execution_count": 35,
   "id": "08cb16f0",
   "metadata": {},
   "outputs": [],
   "source": [
    "# set operations \n",
    "#Union: Combines elemenys from two sets excluding duplicates\n",
    "#intersection: only common elements between sets\n",
    "#difference: returns the element that is present set not in present set\n",
    "#symmetric difference: return elemets that are present in either of sets but not in both"
   ]
  },
  {
   "cell_type": "code",
   "execution_count": 37,
   "id": "efde4b82",
   "metadata": {},
   "outputs": [
    {
     "data": {
      "text/plain": [
       "{'coding', 'hiking'}"
      ]
     },
     "execution_count": 37,
     "metadata": {},
     "output_type": "execute_result"
    }
   ],
   "source": [
    "s1 = {\"Playing cricket\", \"hiking\", \"Mountaning\", \"coding\"}\n",
    "s2 = {\"coding\", \"hiking\", \"travelling\"}\n",
    "s1.intersection(s2)"
   ]
  },
  {
   "cell_type": "code",
   "execution_count": 38,
   "id": "91b5f7d0",
   "metadata": {},
   "outputs": [
    {
     "data": {
      "text/plain": [
       "{'coding', 'hiking'}"
      ]
     },
     "execution_count": 38,
     "metadata": {},
     "output_type": "execute_result"
    }
   ],
   "source": [
    "s1 & s2 # we can also do like this"
   ]
  },
  {
   "cell_type": "code",
   "execution_count": 40,
   "id": "ada66495",
   "metadata": {},
   "outputs": [
    {
     "data": {
      "text/plain": [
       "{'Mountaning', 'Playing cricket', 'coding', 'hiking', 'travelling'}"
      ]
     },
     "execution_count": 40,
     "metadata": {},
     "output_type": "execute_result"
    }
   ],
   "source": [
    "#union\n",
    "s1.union(s2)"
   ]
  },
  {
   "cell_type": "code",
   "execution_count": 41,
   "id": "3ccb981a",
   "metadata": {},
   "outputs": [
    {
     "data": {
      "text/plain": [
       "{'Mountaning', 'Playing cricket', 'coding', 'hiking', 'travelling'}"
      ]
     },
     "execution_count": 41,
     "metadata": {},
     "output_type": "execute_result"
    }
   ],
   "source": [
    "s1 | s2"
   ]
  },
  {
   "cell_type": "code",
   "execution_count": 42,
   "id": "ef9a3047",
   "metadata": {},
   "outputs": [
    {
     "data": {
      "text/plain": [
       "{'Mountaning', 'Playing cricket'}"
      ]
     },
     "execution_count": 42,
     "metadata": {},
     "output_type": "execute_result"
    }
   ],
   "source": [
    "# difference\n",
    "s1.difference(s2)"
   ]
  },
  {
   "cell_type": "code",
   "execution_count": 43,
   "id": "5a68474d",
   "metadata": {},
   "outputs": [
    {
     "data": {
      "text/plain": [
       "{'Mountaning', 'Playing cricket'}"
      ]
     },
     "execution_count": 43,
     "metadata": {},
     "output_type": "execute_result"
    }
   ],
   "source": [
    "s1 - s2"
   ]
  },
  {
   "cell_type": "code",
   "execution_count": 46,
   "id": "4598b8eb",
   "metadata": {},
   "outputs": [
    {
     "data": {
      "text/plain": [
       "{'Mountaning', 'Playing cricket', 'travelling'}"
      ]
     },
     "execution_count": 46,
     "metadata": {},
     "output_type": "execute_result"
    }
   ],
   "source": [
    "# symmertric difference\n",
    "s1.symmetric_difference(s2)"
   ]
  },
  {
   "cell_type": "code",
   "execution_count": 49,
   "id": "78d71509",
   "metadata": {},
   "outputs": [
    {
     "name": "stdout",
     "output_type": "stream",
     "text": [
      "frozenset({1, 2, 3, 4, 5})\n"
     ]
    }
   ],
   "source": [
    "#frozen sets >> immutable version of set, can not be changed added or removed\n",
    "my_frozen_set = frozenset([1, 2, 3, 4, 5, 5, 4, 3])\n",
    "print(my_frozen_set)"
   ]
  },
  {
   "cell_type": "code",
   "execution_count": 50,
   "id": "cfc16c2f",
   "metadata": {},
   "outputs": [
    {
     "data": {
      "text/plain": [
       "frozenset"
      ]
     },
     "execution_count": 50,
     "metadata": {},
     "output_type": "execute_result"
    }
   ],
   "source": [
    "type(my_frozen_set)"
   ]
  },
  {
   "cell_type": "code",
   "execution_count": 52,
   "id": "b6b4feb6",
   "metadata": {},
   "outputs": [],
   "source": [
    "# my_frozen_set.add(56, 7)  - we cannot change frozen set"
   ]
  },
  {
   "cell_type": "code",
   "execution_count": 53,
   "id": "4558efc8",
   "metadata": {},
   "outputs": [
    {
     "name": "stdout",
     "output_type": "stream",
     "text": [
      "1\n",
      "2\n",
      "3\n",
      "4\n",
      "5\n"
     ]
    }
   ],
   "source": [
    "for i in my_frozen_set:\n",
    "    print(i)"
   ]
  },
  {
   "cell_type": "code",
   "execution_count": null,
   "id": "5500ef79",
   "metadata": {},
   "outputs": [],
   "source": []
  }
 ],
 "metadata": {
  "kernelspec": {
   "display_name": "Python 3 (ipykernel)",
   "language": "python",
   "name": "python3"
  },
  "language_info": {
   "codemirror_mode": {
    "name": "ipython",
    "version": 3
   },
   "file_extension": ".py",
   "mimetype": "text/x-python",
   "name": "python",
   "nbconvert_exporter": "python",
   "pygments_lexer": "ipython3",
   "version": "3.11.7"
  }
 },
 "nbformat": 4,
 "nbformat_minor": 5
}
