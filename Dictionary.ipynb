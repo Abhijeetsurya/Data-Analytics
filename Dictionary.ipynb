{
 "cells": [
  {
   "cell_type": "code",
   "execution_count": 1,
   "id": "ebdb688c",
   "metadata": {},
   "outputs": [],
   "source": [
    "#dictionary is a data structure that stores data as key value pair \n",
    "#Unordered, keys are unique and immutable"
   ]
  },
  {
   "cell_type": "code",
   "execution_count": 2,
   "id": "b342221a",
   "metadata": {},
   "outputs": [
    {
     "data": {
      "text/plain": [
       "dict"
      ]
     },
     "execution_count": 2,
     "metadata": {},
     "output_type": "execute_result"
    }
   ],
   "source": [
    "d = {}\n",
    "type(d)"
   ]
  },
  {
   "cell_type": "code",
   "execution_count": 3,
   "id": "8ec4456c",
   "metadata": {},
   "outputs": [],
   "source": [
    "d = {\"name\": \"abhijeet\", \"email\":\"abhisurya1421@gmail.com\", \"age\": 22}"
   ]
  },
  {
   "cell_type": "code",
   "execution_count": 4,
   "id": "e421f006",
   "metadata": {},
   "outputs": [
    {
     "data": {
      "text/plain": [
       "{'name': 'abhijeet', 'email': 'abhisurya1421@gmail.com', 'age': 22}"
      ]
     },
     "execution_count": 4,
     "metadata": {},
     "output_type": "execute_result"
    }
   ],
   "source": [
    "d"
   ]
  },
  {
   "cell_type": "code",
   "execution_count": 7,
   "id": "eab1ab57",
   "metadata": {},
   "outputs": [
    {
     "data": {
      "text/plain": [
       "'abhisurya1421@gmail.com'"
      ]
     },
     "execution_count": 7,
     "metadata": {},
     "output_type": "execute_result"
    }
   ],
   "source": [
    "d['name']\n",
    "d['email']"
   ]
  },
  {
   "cell_type": "code",
   "execution_count": 8,
   "id": "bb17c4b0",
   "metadata": {},
   "outputs": [
    {
     "data": {
      "text/plain": [
       "{'name': 'Abhi', 'email': 'abhisurya1421@gmail.com', 'age': 22}"
      ]
     },
     "execution_count": 8,
     "metadata": {},
     "output_type": "execute_result"
    }
   ],
   "source": [
    "d[\"name\"] = \"Abhi\"\n",
    "d"
   ]
  },
  {
   "cell_type": "code",
   "execution_count": 9,
   "id": "c114ae69",
   "metadata": {},
   "outputs": [
    {
     "data": {
      "text/plain": [
       "{'name': 'abhijeet', 'email': 'abhisurya1421@gmail.com'}"
      ]
     },
     "execution_count": 9,
     "metadata": {},
     "output_type": "execute_result"
    }
   ],
   "source": [
    "d = {\"name\": \"abhi\", \"name\":\"abhijeet\", \"email\":\"abhisurya1421@gmail.com\"}  # key will overwrite because key must be unquie\n",
    "d"
   ]
  },
  {
   "cell_type": "code",
   "execution_count": 11,
   "id": "a77b9ea3",
   "metadata": {},
   "outputs": [
    {
     "data": {
      "text/plain": [
       "{237: 'number'}"
      ]
     },
     "execution_count": 11,
     "metadata": {},
     "output_type": "execute_result"
    }
   ],
   "source": [
    "d = {237:\"number\"}  #we can also use number as key \n",
    "d"
   ]
  },
  {
   "cell_type": "code",
   "execution_count": null,
   "id": "6e046166",
   "metadata": {},
   "outputs": [],
   "source": []
  }
 ],
 "metadata": {
  "kernelspec": {
   "display_name": "Python 3 (ipykernel)",
   "language": "python",
   "name": "python3"
  },
  "language_info": {
   "codemirror_mode": {
    "name": "ipython",
    "version": 3
   },
   "file_extension": ".py",
   "mimetype": "text/x-python",
   "name": "python",
   "nbconvert_exporter": "python",
   "pygments_lexer": "ipython3",
   "version": "3.11.7"
  }
 },
 "nbformat": 4,
 "nbformat_minor": 5
}
